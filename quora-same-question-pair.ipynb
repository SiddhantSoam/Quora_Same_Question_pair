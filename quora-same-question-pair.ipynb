{
 "cells": [
  {
   "cell_type": "code",
   "execution_count": 1,
   "id": "246b7416",
   "metadata": {
    "_cell_guid": "b1076dfc-b9ad-4769-8c92-a6c4dae69d19",
    "_uuid": "8f2839f25d086af736a60e9eeb907d3b93b6e0e5",
    "execution": {
     "iopub.execute_input": "2023-08-06T00:27:02.219878Z",
     "iopub.status.busy": "2023-08-06T00:27:02.219500Z",
     "iopub.status.idle": "2023-08-06T00:27:02.273779Z",
     "shell.execute_reply": "2023-08-06T00:27:02.272880Z"
    },
    "papermill": {
     "duration": 0.070695,
     "end_time": "2023-08-06T00:27:02.276250",
     "exception": false,
     "start_time": "2023-08-06T00:27:02.205555",
     "status": "completed"
    },
    "tags": []
   },
   "outputs": [
    {
     "name": "stdout",
     "output_type": "stream",
     "text": [
      "/kaggle/input/dataset/sample_submission.csv\n",
      "/kaggle/input/dataset/train.csv\n",
      "/kaggle/input/dataset/test.csv\n",
      "/kaggle/input/dataset/nlp/sample_submission.csv\n",
      "/kaggle/input/dataset/nlp/train.csv\n",
      "/kaggle/input/dataset/nlp/test.csv\n",
      "/kaggle/input/quora-processed-data/processed_data_wo_index.csv\n",
      "/kaggle/input/quora-word2vec/processed_data_w0rd2vec.csv\n"
     ]
    }
   ],
   "source": [
    "# This Python 3 environment comes with many helpful analytics libraries installed\n",
    "# It is defined by the kaggle/python Docker image: https://github.com/kaggle/docker-python\n",
    "# For example, here's several helpful packages to load\n",
    "\n",
    "import numpy as np # linear algebra\n",
    "import pandas as pd # data processing, CSV file I/O (e.g. pd.read_csv)\n",
    "\n",
    "# Input data files are available in the read-only \"../input/\" directory\n",
    "# For example, running this (by clicking run or pressing Shift+Enter) will list all files under the input directory\n",
    "\n",
    "import os\n",
    "for dirname, _, filenames in os.walk('/kaggle/input'):\n",
    "    for filename in filenames:\n",
    "        print(os.path.join(dirname, filename))\n",
    "\n",
    "# You can write up to 20GB to the current directory (/kaggle/working/) that gets preserved as output when you create a version using \"Save & Run All\" \n",
    "# You can also write temporary files to /kaggle/temp/, but they won't be saved outside of the current session"
   ]
  },
  {
   "cell_type": "markdown",
   "id": "01d81585",
   "metadata": {
    "papermill": {
     "duration": 0.011954,
     "end_time": "2023-08-06T00:27:02.300383",
     "exception": false,
     "start_time": "2023-08-06T00:27:02.288429",
     "status": "completed"
    },
    "tags": []
   },
   "source": [
    "***Buisness Objectives and contraints***\n",
    "\n",
    "1) Cost of mis-classificaton is very high\n",
    "\n",
    "2) Use a probability threshold to make the decision so that it can be changed in future\n",
    "\n",
    "3) No strict latency requirements\n",
    "\n",
    "4) Interpretability is partially important\n",
    "\n"
   ]
  },
  {
   "cell_type": "markdown",
   "id": "588e93c9",
   "metadata": {
    "papermill": {
     "duration": 0.011865,
     "end_time": "2023-08-06T00:27:02.324329",
     "exception": false,
     "start_time": "2023-08-06T00:27:02.312464",
     "status": "completed"
    },
    "tags": []
   },
   "source": [
    "To split it in train/test dataset, we should use timestamp in this case because the new questions might be different , so we just need to sort the data as per the timestamp and take old 70% as train and new 30% as test dataset. But we dont have the timestamp present in this dataset so we will do random splitting"
   ]
  },
  {
   "cell_type": "code",
   "execution_count": 2,
   "id": "6950c6a9",
   "metadata": {
    "execution": {
     "iopub.execute_input": "2023-08-06T00:27:02.350751Z",
     "iopub.status.busy": "2023-08-06T00:27:02.349351Z",
     "iopub.status.idle": "2023-08-06T00:27:03.769872Z",
     "shell.execute_reply": "2023-08-06T00:27:03.768905Z"
    },
    "papermill": {
     "duration": 1.435907,
     "end_time": "2023-08-06T00:27:03.772538",
     "exception": false,
     "start_time": "2023-08-06T00:27:02.336631",
     "status": "completed"
    },
    "tags": []
   },
   "outputs": [
    {
     "name": "stderr",
     "output_type": "stream",
     "text": [
      "/opt/conda/lib/python3.10/site-packages/scipy/__init__.py:146: UserWarning: A NumPy version >=1.16.5 and <1.23.0 is required for this version of SciPy (detected version 1.23.5\n",
      "  warnings.warn(f\"A NumPy version >={np_minversion} and <{np_maxversion}\"\n"
     ]
    }
   ],
   "source": [
    "import numpy as np\n",
    "import pandas as pd\n",
    "import seaborn as sns\n",
    "import matplotlib.pyplot as plt"
   ]
  },
  {
   "cell_type": "code",
   "execution_count": 3,
   "id": "3c10d304",
   "metadata": {
    "execution": {
     "iopub.execute_input": "2023-08-06T00:27:03.798730Z",
     "iopub.status.busy": "2023-08-06T00:27:03.798436Z",
     "iopub.status.idle": "2023-08-06T00:27:03.803058Z",
     "shell.execute_reply": "2023-08-06T00:27:03.802101Z"
    },
    "papermill": {
     "duration": 0.020023,
     "end_time": "2023-08-06T00:27:03.805254",
     "exception": false,
     "start_time": "2023-08-06T00:27:03.785231",
     "status": "completed"
    },
    "tags": []
   },
   "outputs": [],
   "source": [
    "pd.set_option('display.max_colwidth',100)    #to display the whole question"
   ]
  },
  {
   "cell_type": "code",
   "execution_count": 4,
   "id": "5995d17e",
   "metadata": {
    "execution": {
     "iopub.execute_input": "2023-08-06T00:27:03.831678Z",
     "iopub.status.busy": "2023-08-06T00:27:03.831396Z",
     "iopub.status.idle": "2023-08-06T00:27:05.685054Z",
     "shell.execute_reply": "2023-08-06T00:27:05.683877Z"
    },
    "papermill": {
     "duration": 1.869336,
     "end_time": "2023-08-06T00:27:05.687244",
     "exception": false,
     "start_time": "2023-08-06T00:27:03.817908",
     "status": "completed"
    },
    "tags": []
   },
   "outputs": [
    {
     "data": {
      "text/plain": [
       "(404290, 6)"
      ]
     },
     "execution_count": 4,
     "metadata": {},
     "output_type": "execute_result"
    }
   ],
   "source": [
    "df = pd.read_csv('../input/dataset/train.csv')\n",
    "df.shape"
   ]
  },
  {
   "cell_type": "code",
   "execution_count": 5,
   "id": "567c189c",
   "metadata": {
    "execution": {
     "iopub.execute_input": "2023-08-06T00:27:05.713317Z",
     "iopub.status.busy": "2023-08-06T00:27:05.713007Z",
     "iopub.status.idle": "2023-08-06T00:27:05.732013Z",
     "shell.execute_reply": "2023-08-06T00:27:05.731000Z"
    },
    "papermill": {
     "duration": 0.034519,
     "end_time": "2023-08-06T00:27:05.734295",
     "exception": false,
     "start_time": "2023-08-06T00:27:05.699776",
     "status": "completed"
    },
    "tags": []
   },
   "outputs": [
    {
     "data": {
      "text/html": [
       "<div>\n",
       "<style scoped>\n",
       "    .dataframe tbody tr th:only-of-type {\n",
       "        vertical-align: middle;\n",
       "    }\n",
       "\n",
       "    .dataframe tbody tr th {\n",
       "        vertical-align: top;\n",
       "    }\n",
       "\n",
       "    .dataframe thead th {\n",
       "        text-align: right;\n",
       "    }\n",
       "</style>\n",
       "<table border=\"1\" class=\"dataframe\">\n",
       "  <thead>\n",
       "    <tr style=\"text-align: right;\">\n",
       "      <th></th>\n",
       "      <th>id</th>\n",
       "      <th>qid1</th>\n",
       "      <th>qid2</th>\n",
       "      <th>question1</th>\n",
       "      <th>question2</th>\n",
       "      <th>is_duplicate</th>\n",
       "    </tr>\n",
       "  </thead>\n",
       "  <tbody>\n",
       "    <tr>\n",
       "      <th>0</th>\n",
       "      <td>0</td>\n",
       "      <td>1</td>\n",
       "      <td>2</td>\n",
       "      <td>What is the step by step guide to invest in share market in india?</td>\n",
       "      <td>What is the step by step guide to invest in share market?</td>\n",
       "      <td>0</td>\n",
       "    </tr>\n",
       "    <tr>\n",
       "      <th>1</th>\n",
       "      <td>1</td>\n",
       "      <td>3</td>\n",
       "      <td>4</td>\n",
       "      <td>What is the story of Kohinoor (Koh-i-Noor) Diamond?</td>\n",
       "      <td>What would happen if the Indian government stole the Kohinoor (Koh-i-Noor) diamond back?</td>\n",
       "      <td>0</td>\n",
       "    </tr>\n",
       "    <tr>\n",
       "      <th>2</th>\n",
       "      <td>2</td>\n",
       "      <td>5</td>\n",
       "      <td>6</td>\n",
       "      <td>How can I increase the speed of my internet connection while using a VPN?</td>\n",
       "      <td>How can Internet speed be increased by hacking through DNS?</td>\n",
       "      <td>0</td>\n",
       "    </tr>\n",
       "    <tr>\n",
       "      <th>3</th>\n",
       "      <td>3</td>\n",
       "      <td>7</td>\n",
       "      <td>8</td>\n",
       "      <td>Why am I mentally very lonely? How can I solve it?</td>\n",
       "      <td>Find the remainder when [math]23^{24}[/math] is divided by 24,23?</td>\n",
       "      <td>0</td>\n",
       "    </tr>\n",
       "    <tr>\n",
       "      <th>4</th>\n",
       "      <td>4</td>\n",
       "      <td>9</td>\n",
       "      <td>10</td>\n",
       "      <td>Which one dissolve in water quikly sugar, salt, methane and carbon di oxide?</td>\n",
       "      <td>Which fish would survive in salt water?</td>\n",
       "      <td>0</td>\n",
       "    </tr>\n",
       "  </tbody>\n",
       "</table>\n",
       "</div>"
      ],
      "text/plain": [
       "   id  qid1  qid2  \\\n",
       "0   0     1     2   \n",
       "1   1     3     4   \n",
       "2   2     5     6   \n",
       "3   3     7     8   \n",
       "4   4     9    10   \n",
       "\n",
       "                                                                      question1  \\\n",
       "0            What is the step by step guide to invest in share market in india?   \n",
       "1                           What is the story of Kohinoor (Koh-i-Noor) Diamond?   \n",
       "2     How can I increase the speed of my internet connection while using a VPN?   \n",
       "3                            Why am I mentally very lonely? How can I solve it?   \n",
       "4  Which one dissolve in water quikly sugar, salt, methane and carbon di oxide?   \n",
       "\n",
       "                                                                                  question2  \\\n",
       "0                                 What is the step by step guide to invest in share market?   \n",
       "1  What would happen if the Indian government stole the Kohinoor (Koh-i-Noor) diamond back?   \n",
       "2                               How can Internet speed be increased by hacking through DNS?   \n",
       "3                         Find the remainder when [math]23^{24}[/math] is divided by 24,23?   \n",
       "4                                                   Which fish would survive in salt water?   \n",
       "\n",
       "   is_duplicate  \n",
       "0             0  \n",
       "1             0  \n",
       "2             0  \n",
       "3             0  \n",
       "4             0  "
      ]
     },
     "execution_count": 5,
     "metadata": {},
     "output_type": "execute_result"
    }
   ],
   "source": [
    "df.head()"
   ]
  },
  {
   "cell_type": "code",
   "execution_count": 6,
   "id": "27471286",
   "metadata": {
    "execution": {
     "iopub.execute_input": "2023-08-06T00:27:05.762680Z",
     "iopub.status.busy": "2023-08-06T00:27:05.762420Z",
     "iopub.status.idle": "2023-08-06T00:27:05.788293Z",
     "shell.execute_reply": "2023-08-06T00:27:05.787147Z"
    },
    "papermill": {
     "duration": 0.042932,
     "end_time": "2023-08-06T00:27:05.791206",
     "exception": false,
     "start_time": "2023-08-06T00:27:05.748274",
     "status": "completed"
    },
    "tags": []
   },
   "outputs": [
    {
     "data": {
      "text/html": [
       "<div>\n",
       "<style scoped>\n",
       "    .dataframe tbody tr th:only-of-type {\n",
       "        vertical-align: middle;\n",
       "    }\n",
       "\n",
       "    .dataframe tbody tr th {\n",
       "        vertical-align: top;\n",
       "    }\n",
       "\n",
       "    .dataframe thead th {\n",
       "        text-align: right;\n",
       "    }\n",
       "</style>\n",
       "<table border=\"1\" class=\"dataframe\">\n",
       "  <thead>\n",
       "    <tr style=\"text-align: right;\">\n",
       "      <th></th>\n",
       "      <th>id</th>\n",
       "      <th>qid1</th>\n",
       "      <th>qid2</th>\n",
       "      <th>question1</th>\n",
       "      <th>question2</th>\n",
       "      <th>is_duplicate</th>\n",
       "    </tr>\n",
       "  </thead>\n",
       "  <tbody>\n",
       "    <tr>\n",
       "      <th>16301</th>\n",
       "      <td>16301</td>\n",
       "      <td>31085</td>\n",
       "      <td>25365</td>\n",
       "      <td>What is a 21st century educator?</td>\n",
       "      <td>Is this the 21st Century?</td>\n",
       "      <td>0</td>\n",
       "    </tr>\n",
       "    <tr>\n",
       "      <th>30644</th>\n",
       "      <td>30644</td>\n",
       "      <td>56574</td>\n",
       "      <td>56575</td>\n",
       "      <td>Would you ever cheat on your partner?</td>\n",
       "      <td>If you ever have - why did you cheat on your partner?</td>\n",
       "      <td>0</td>\n",
       "    </tr>\n",
       "    <tr>\n",
       "      <th>396142</th>\n",
       "      <td>396142</td>\n",
       "      <td>42216</td>\n",
       "      <td>83555</td>\n",
       "      <td>Who has scored more goals via free kick, Messi or Ronaldo?</td>\n",
       "      <td>Is Lionel Messi currently the best soccer player in the league? Why or why not?</td>\n",
       "      <td>0</td>\n",
       "    </tr>\n",
       "    <tr>\n",
       "      <th>196347</th>\n",
       "      <td>196347</td>\n",
       "      <td>297024</td>\n",
       "      <td>297025</td>\n",
       "      <td>Do airline pilots touch every button in the cockpit during a flight?</td>\n",
       "      <td>Do pilots sleep in the cockpit during long flights?</td>\n",
       "      <td>0</td>\n",
       "    </tr>\n",
       "    <tr>\n",
       "      <th>258430</th>\n",
       "      <td>258430</td>\n",
       "      <td>302273</td>\n",
       "      <td>374004</td>\n",
       "      <td>Could a Gorilla beat a Tiger/Lion in a fight?</td>\n",
       "      <td>Can a gorilla beat up a lion?</td>\n",
       "      <td>1</td>\n",
       "    </tr>\n",
       "    <tr>\n",
       "      <th>104077</th>\n",
       "      <td>104077</td>\n",
       "      <td>76661</td>\n",
       "      <td>171891</td>\n",
       "      <td>How do I prepare for net exam in education?</td>\n",
       "      <td>What is the best way to prepare for NET exam in biotechnology?</td>\n",
       "      <td>0</td>\n",
       "    </tr>\n",
       "    <tr>\n",
       "      <th>352745</th>\n",
       "      <td>352745</td>\n",
       "      <td>391313</td>\n",
       "      <td>224105</td>\n",
       "      <td>Do I still have a chance of getting into a good college?</td>\n",
       "      <td>What are my chances of getting into a good college?</td>\n",
       "      <td>0</td>\n",
       "    </tr>\n",
       "    <tr>\n",
       "      <th>344285</th>\n",
       "      <td>344285</td>\n",
       "      <td>472486</td>\n",
       "      <td>472487</td>\n",
       "      <td>What is the best VR for Samsung Galaxy J7 Prime?</td>\n",
       "      <td>Which mobile phone is better out of these three: Moto G4 Plus, Samasung Galaxy J7 Prime Or Samsu...</td>\n",
       "      <td>0</td>\n",
       "    </tr>\n",
       "    <tr>\n",
       "      <th>270678</th>\n",
       "      <td>270678</td>\n",
       "      <td>388611</td>\n",
       "      <td>388612</td>\n",
       "      <td>How is the process of hydrolysis described?</td>\n",
       "      <td>How can you describe the process of hydrolysis?</td>\n",
       "      <td>1</td>\n",
       "    </tr>\n",
       "    <tr>\n",
       "      <th>82099</th>\n",
       "      <td>82099</td>\n",
       "      <td>139297</td>\n",
       "      <td>139298</td>\n",
       "      <td>Difference between laminar transitional and turbulent flow?</td>\n",
       "      <td>What is a fully developed laminar and turbulent flow?</td>\n",
       "      <td>1</td>\n",
       "    </tr>\n",
       "  </tbody>\n",
       "</table>\n",
       "</div>"
      ],
      "text/plain": [
       "            id    qid1    qid2  \\\n",
       "16301    16301   31085   25365   \n",
       "30644    30644   56574   56575   \n",
       "396142  396142   42216   83555   \n",
       "196347  196347  297024  297025   \n",
       "258430  258430  302273  374004   \n",
       "104077  104077   76661  171891   \n",
       "352745  352745  391313  224105   \n",
       "344285  344285  472486  472487   \n",
       "270678  270678  388611  388612   \n",
       "82099    82099  139297  139298   \n",
       "\n",
       "                                                                   question1  \\\n",
       "16301                                       What is a 21st century educator?   \n",
       "30644                                  Would you ever cheat on your partner?   \n",
       "396142            Who has scored more goals via free kick, Messi or Ronaldo?   \n",
       "196347  Do airline pilots touch every button in the cockpit during a flight?   \n",
       "258430                         Could a Gorilla beat a Tiger/Lion in a fight?   \n",
       "104077                           How do I prepare for net exam in education?   \n",
       "352745              Do I still have a chance of getting into a good college?   \n",
       "344285                      What is the best VR for Samsung Galaxy J7 Prime?   \n",
       "270678                           How is the process of hydrolysis described?   \n",
       "82099            Difference between laminar transitional and turbulent flow?   \n",
       "\n",
       "                                                                                                  question2  \\\n",
       "16301                                                                             Is this the 21st Century?   \n",
       "30644                                                 If you ever have - why did you cheat on your partner?   \n",
       "396142                      Is Lionel Messi currently the best soccer player in the league? Why or why not?   \n",
       "196347                                                  Do pilots sleep in the cockpit during long flights?   \n",
       "258430                                                                        Can a gorilla beat up a lion?   \n",
       "104077                                       What is the best way to prepare for NET exam in biotechnology?   \n",
       "352745                                                  What are my chances of getting into a good college?   \n",
       "344285  Which mobile phone is better out of these three: Moto G4 Plus, Samasung Galaxy J7 Prime Or Samsu...   \n",
       "270678                                                      How can you describe the process of hydrolysis?   \n",
       "82099                                                 What is a fully developed laminar and turbulent flow?   \n",
       "\n",
       "        is_duplicate  \n",
       "16301              0  \n",
       "30644              0  \n",
       "396142             0  \n",
       "196347             0  \n",
       "258430             1  \n",
       "104077             0  \n",
       "352745             0  \n",
       "344285             0  \n",
       "270678             1  \n",
       "82099              1  "
      ]
     },
     "execution_count": 6,
     "metadata": {},
     "output_type": "execute_result"
    }
   ],
   "source": [
    "df.sample(10)      # picks up randomly 10 datapoints"
   ]
  },
  {
   "cell_type": "code",
   "execution_count": 7,
   "id": "a08688a2",
   "metadata": {
    "execution": {
     "iopub.execute_input": "2023-08-06T00:27:05.820531Z",
     "iopub.status.busy": "2023-08-06T00:27:05.820256Z",
     "iopub.status.idle": "2023-08-06T00:27:06.083653Z",
     "shell.execute_reply": "2023-08-06T00:27:06.081858Z"
    },
    "papermill": {
     "duration": 0.280038,
     "end_time": "2023-08-06T00:27:06.086015",
     "exception": false,
     "start_time": "2023-08-06T00:27:05.805977",
     "status": "completed"
    },
    "tags": []
   },
   "outputs": [
    {
     "name": "stdout",
     "output_type": "stream",
     "text": [
      "<class 'pandas.core.frame.DataFrame'>\n",
      "RangeIndex: 404290 entries, 0 to 404289\n",
      "Data columns (total 6 columns):\n",
      " #   Column        Non-Null Count   Dtype \n",
      "---  ------        --------------   ----- \n",
      " 0   id            404290 non-null  int64 \n",
      " 1   qid1          404290 non-null  int64 \n",
      " 2   qid2          404290 non-null  int64 \n",
      " 3   question1     404289 non-null  object\n",
      " 4   question2     404288 non-null  object\n",
      " 5   is_duplicate  404290 non-null  int64 \n",
      "dtypes: int64(4), object(2)\n",
      "memory usage: 18.5+ MB\n"
     ]
    }
   ],
   "source": [
    "df.info()"
   ]
  },
  {
   "cell_type": "code",
   "execution_count": 8,
   "id": "cfe3a0ff",
   "metadata": {
    "execution": {
     "iopub.execute_input": "2023-08-06T00:27:06.113761Z",
     "iopub.status.busy": "2023-08-06T00:27:06.113475Z",
     "iopub.status.idle": "2023-08-06T00:27:06.364244Z",
     "shell.execute_reply": "2023-08-06T00:27:06.363124Z"
    },
    "papermill": {
     "duration": 0.26733,
     "end_time": "2023-08-06T00:27:06.366743",
     "exception": false,
     "start_time": "2023-08-06T00:27:06.099413",
     "status": "completed"
    },
    "tags": []
   },
   "outputs": [
    {
     "data": {
      "text/plain": [
       "id              0\n",
       "qid1            0\n",
       "qid2            0\n",
       "question1       1\n",
       "question2       2\n",
       "is_duplicate    0\n",
       "dtype: int64"
      ]
     },
     "execution_count": 8,
     "metadata": {},
     "output_type": "execute_result"
    }
   ],
   "source": [
    "df.isnull().sum()"
   ]
  },
  {
   "cell_type": "code",
   "execution_count": 9,
   "id": "3407d4c0",
   "metadata": {
    "execution": {
     "iopub.execute_input": "2023-08-06T00:27:06.395183Z",
     "iopub.status.busy": "2023-08-06T00:27:06.394860Z",
     "iopub.status.idle": "2023-08-06T00:27:06.795443Z",
     "shell.execute_reply": "2023-08-06T00:27:06.794273Z"
    },
    "papermill": {
     "duration": 0.417815,
     "end_time": "2023-08-06T00:27:06.798096",
     "exception": false,
     "start_time": "2023-08-06T00:27:06.380281",
     "status": "completed"
    },
    "tags": []
   },
   "outputs": [
    {
     "data": {
      "text/plain": [
       "0"
      ]
     },
     "execution_count": 9,
     "metadata": {},
     "output_type": "execute_result"
    }
   ],
   "source": [
    "# duplicate number of rows\n",
    "df.duplicated().sum()"
   ]
  },
  {
   "cell_type": "code",
   "execution_count": 10,
   "id": "ba2a081d",
   "metadata": {
    "execution": {
     "iopub.execute_input": "2023-08-06T00:27:06.826685Z",
     "iopub.status.busy": "2023-08-06T00:27:06.826394Z",
     "iopub.status.idle": "2023-08-06T00:27:07.110889Z",
     "shell.execute_reply": "2023-08-06T00:27:07.109974Z"
    },
    "papermill": {
     "duration": 0.301422,
     "end_time": "2023-08-06T00:27:07.113060",
     "exception": false,
     "start_time": "2023-08-06T00:27:06.811638",
     "status": "completed"
    },
    "tags": []
   },
   "outputs": [
    {
     "name": "stdout",
     "output_type": "stream",
     "text": [
      "0    255027\n",
      "1    149263\n",
      "Name: is_duplicate, dtype: int64\n",
      "0    63.08\n",
      "1    36.92\n",
      "Name: is_duplicate, dtype: float64\n"
     ]
    },
    {
     "data": {
      "text/plain": [
       "<Axes: >"
      ]
     },
     "execution_count": 10,
     "metadata": {},
     "output_type": "execute_result"
    },
    {
     "data": {
      "image/png": "[encoded data removed]",
      "text/plain": [
       "<Figure size 640x480 with 1 Axes>"
      ]
     },
     "metadata": {},
     "output_type": "display_data"
    }
   ],
   "source": [
    "# distribution of duplicate and non-duplicate quesitons\n",
    "\n",
    "print(df['is_duplicate'].value_counts())\n",
    "print(round((df['is_duplicate'].value_counts()/df['is_duplicate'].count())*100, 2))\n",
    "df['is_duplicate'].value_counts().plot(kind='bar')"
   ]
  },
  {
   "cell_type": "code",
   "execution_count": 11,
   "id": "aca9a43e",
   "metadata": {
    "execution": {
     "iopub.execute_input": "2023-08-06T00:27:07.151418Z",
     "iopub.status.busy": "2023-08-06T00:27:07.150887Z",
     "iopub.status.idle": "2023-08-06T00:27:07.715457Z",
     "shell.execute_reply": "2023-08-06T00:27:07.714353Z"
    },
    "papermill": {
     "duration": 0.589181,
     "end_time": "2023-08-06T00:27:07.717818",
     "exception": false,
     "start_time": "2023-08-06T00:27:07.128637",
     "status": "completed"
    },
    "tags": []
   },
   "outputs": [
    {
     "name": "stdout",
     "output_type": "stream",
     "text": [
      "unique questions : 537933\n",
      "repeated questions :  111780\n"
     ]
    }
   ],
   "source": [
    "# repeated questions\n",
    "\n",
    "qid = pd.Series(df['qid1'].tolist() + df['qid2'].tolist())\n",
    "print(\"unique questions :\",np.unique(qid).shape[0])\n",
    "x = qid.value_counts()>1\n",
    "print(\"repeated questions : \", x[x].shape[0])"
   ]
  },
  {
   "cell_type": "code",
   "execution_count": 12,
   "id": "f1f2031d",
   "metadata": {
    "execution": {
     "iopub.execute_input": "2023-08-06T00:27:07.749383Z",
     "iopub.status.busy": "2023-08-06T00:27:07.749046Z",
     "iopub.status.idle": "2023-08-06T00:27:08.751257Z",
     "shell.execute_reply": "2023-08-06T00:27:08.750134Z"
    },
    "papermill": {
     "duration": 1.020933,
     "end_time": "2023-08-06T00:27:08.753810",
     "exception": false,
     "start_time": "2023-08-06T00:27:07.732877",
     "status": "completed"
    },
    "tags": []
   },
   "outputs": [
    {
     "data": {
      "image/png": "[encoded data removed]",
      "text/plain": [
       "<Figure size 640x480 with 1 Axes>"
      ]
     },
     "metadata": {},
     "output_type": "display_data"
    }
   ],
   "source": [
    "# repeated questions histogram\n",
    "\n",
    "plt.hist(qid.value_counts().values, bins=160)\n",
    "plt.xlabel('Number of occurrences of question')\n",
    "plt.ylabel('Number of questions')\n",
    "plt.yscale('log')\n",
    "plt.show()"
   ]
  },
  {
   "cell_type": "code",
   "execution_count": 13,
   "id": "b72b25fa",
   "metadata": {
    "execution": {
     "iopub.execute_input": "2023-08-06T00:27:08.784126Z",
     "iopub.status.busy": "2023-08-06T00:27:08.783797Z",
     "iopub.status.idle": "2023-08-06T00:27:09.036704Z",
     "shell.execute_reply": "2023-08-06T00:27:09.035713Z"
    },
    "papermill": {
     "duration": 0.272464,
     "end_time": "2023-08-06T00:27:09.040905",
     "exception": false,
     "start_time": "2023-08-06T00:27:08.768441",
     "status": "completed"
    },
    "tags": []
   },
   "outputs": [
    {
     "name": "stdout",
     "output_type": "stream",
     "text": [
      "            id    qid1    qid2                         question1  \\\n",
      "105780  105780  174363  174364    How can I develop android app?   \n",
      "201841  201841  303951  174364  How can I create an Android app?   \n",
      "363362  363362  493340  493341                               NaN   \n",
      "\n",
      "                                                                                                  question2  \\\n",
      "105780                                                                                                  NaN   \n",
      "201841                                                                                                  NaN   \n",
      "363362  My Chinese name is Haichao Yu. What English name is most suitable for me considering the pronoun...   \n",
      "\n",
      "        is_duplicate  \n",
      "105780             0  \n",
      "201841             0  \n",
      "363362             0  \n"
     ]
    },
    {
     "name": "stderr",
     "output_type": "stream",
     "text": [
      "/tmp/ipykernel_23/2679301262.py:2: FutureWarning: In a future version of pandas all arguments of DataFrame.any and Series.any will be keyword-only.\n",
      "  nan_rows = df[df.isnull().any(1)]\n"
     ]
    }
   ],
   "source": [
    "#checking for Nan values\n",
    "nan_rows = df[df.isnull().any(1)]\n",
    "print(nan_rows)"
   ]
  },
  {
   "cell_type": "code",
   "execution_count": 14,
   "id": "9ecf5913",
   "metadata": {
    "execution": {
     "iopub.execute_input": "2023-08-06T00:27:09.074472Z",
     "iopub.status.busy": "2023-08-06T00:27:09.072719Z",
     "iopub.status.idle": "2023-08-06T00:27:09.603856Z",
     "shell.execute_reply": "2023-08-06T00:27:09.602737Z"
    },
    "papermill": {
     "duration": 0.551093,
     "end_time": "2023-08-06T00:27:09.608369",
     "exception": false,
     "start_time": "2023-08-06T00:27:09.057276",
     "status": "completed"
    },
    "tags": []
   },
   "outputs": [
    {
     "name": "stdout",
     "output_type": "stream",
     "text": [
      "Empty DataFrame\n",
      "Columns: [id, qid1, qid2, question1, question2, is_duplicate]\n",
      "Index: []\n"
     ]
    },
    {
     "name": "stderr",
     "output_type": "stream",
     "text": [
      "/tmp/ipykernel_23/648104289.py:2: FutureWarning: In a future version of pandas all arguments of DataFrame.any and Series.any will be keyword-only.\n",
      "  nan_rows = df[df.isnull().any(1)]\n"
     ]
    }
   ],
   "source": [
    "df = df.fillna(' ')\n",
    "nan_rows = df[df.isnull().any(1)]\n",
    "print(nan_rows)"
   ]
  },
  {
   "cell_type": "markdown",
   "id": "0ca03cb7",
   "metadata": {
    "papermill": {
     "duration": 0.014385,
     "end_time": "2023-08-06T00:27:09.637136",
     "exception": false,
     "start_time": "2023-08-06T00:27:09.622751",
     "status": "completed"
    },
    "tags": []
   },
   "source": [
    "Feature Engineering\n",
    "\n",
    "- freq_qid1 = frequency of qid 1\n",
    "- freq_qid2\n",
    "- q1len\n",
    "- q2len\n",
    "- q1words\n",
    "- q2words\n",
    "- words common : # of common unique words\n",
    "- words total : total words in q1 + total words in q2 (unique)\n",
    "- word share : (word common) / (word total)\n",
    "- freq_q1 + freq_q2\n",
    "- freq_q1 - freq_q2"
   ]
  },
  {
   "cell_type": "code",
   "execution_count": 15,
   "id": "a1802bfd",
   "metadata": {
    "execution": {
     "iopub.execute_input": "2023-08-06T00:27:09.666489Z",
     "iopub.status.busy": "2023-08-06T00:27:09.666178Z",
     "iopub.status.idle": "2023-08-06T00:27:39.840344Z",
     "shell.execute_reply": "2023-08-06T00:27:39.839147Z"
    },
    "papermill": {
     "duration": 30.207358,
     "end_time": "2023-08-06T00:27:39.858519",
     "exception": false,
     "start_time": "2023-08-06T00:27:09.651161",
     "status": "completed"
    },
    "tags": []
   },
   "outputs": [
    {
     "data": {
      "text/html": [
       "<div>\n",
       "<style scoped>\n",
       "    .dataframe tbody tr th:only-of-type {\n",
       "        vertical-align: middle;\n",
       "    }\n",
       "\n",
       "    .dataframe tbody tr th {\n",
       "        vertical-align: top;\n",
       "    }\n",
       "\n",
       "    .dataframe thead th {\n",
       "        text-align: right;\n",
       "    }\n",
       "</style>\n",
       "<table border=\"1\" class=\"dataframe\">\n",
       "  <thead>\n",
       "    <tr style=\"text-align: right;\">\n",
       "      <th></th>\n",
       "      <th>id</th>\n",
       "      <th>qid1</th>\n",
       "      <th>qid2</th>\n",
       "      <th>question1</th>\n",
       "      <th>question2</th>\n",
       "      <th>is_duplicate</th>\n",
       "      <th>freq_qid1</th>\n",
       "      <th>freq_qid2</th>\n",
       "      <th>q1_len</th>\n",
       "      <th>q2_len</th>\n",
       "      <th>q1_n_words</th>\n",
       "      <th>q2_n_words</th>\n",
       "      <th>word_common</th>\n",
       "      <th>word_total</th>\n",
       "      <th>word_share</th>\n",
       "      <th>freq_q1+q2</th>\n",
       "      <th>freq_q1-q2</th>\n",
       "    </tr>\n",
       "  </thead>\n",
       "  <tbody>\n",
       "    <tr>\n",
       "      <th>0</th>\n",
       "      <td>0</td>\n",
       "      <td>1</td>\n",
       "      <td>2</td>\n",
       "      <td>What is the step by step guide to invest in share market in india?</td>\n",
       "      <td>What is the step by step guide to invest in share market?</td>\n",
       "      <td>0</td>\n",
       "      <td>1</td>\n",
       "      <td>1</td>\n",
       "      <td>66</td>\n",
       "      <td>57</td>\n",
       "      <td>14</td>\n",
       "      <td>12</td>\n",
       "      <td>10.0</td>\n",
       "      <td>23.0</td>\n",
       "      <td>0.43</td>\n",
       "      <td>2</td>\n",
       "      <td>0</td>\n",
       "    </tr>\n",
       "    <tr>\n",
       "      <th>1</th>\n",
       "      <td>1</td>\n",
       "      <td>3</td>\n",
       "      <td>4</td>\n",
       "      <td>What is the story of Kohinoor (Koh-i-Noor) Diamond?</td>\n",
       "      <td>What would happen if the Indian government stole the Kohinoor (Koh-i-Noor) diamond back?</td>\n",
       "      <td>0</td>\n",
       "      <td>4</td>\n",
       "      <td>1</td>\n",
       "      <td>51</td>\n",
       "      <td>88</td>\n",
       "      <td>8</td>\n",
       "      <td>13</td>\n",
       "      <td>4.0</td>\n",
       "      <td>20.0</td>\n",
       "      <td>0.20</td>\n",
       "      <td>5</td>\n",
       "      <td>3</td>\n",
       "    </tr>\n",
       "    <tr>\n",
       "      <th>2</th>\n",
       "      <td>2</td>\n",
       "      <td>5</td>\n",
       "      <td>6</td>\n",
       "      <td>How can I increase the speed of my internet connection while using a VPN?</td>\n",
       "      <td>How can Internet speed be increased by hacking through DNS?</td>\n",
       "      <td>0</td>\n",
       "      <td>1</td>\n",
       "      <td>1</td>\n",
       "      <td>73</td>\n",
       "      <td>59</td>\n",
       "      <td>14</td>\n",
       "      <td>10</td>\n",
       "      <td>4.0</td>\n",
       "      <td>24.0</td>\n",
       "      <td>0.17</td>\n",
       "      <td>2</td>\n",
       "      <td>0</td>\n",
       "    </tr>\n",
       "    <tr>\n",
       "      <th>3</th>\n",
       "      <td>3</td>\n",
       "      <td>7</td>\n",
       "      <td>8</td>\n",
       "      <td>Why am I mentally very lonely? How can I solve it?</td>\n",
       "      <td>Find the remainder when [math]23^{24}[/math] is divided by 24,23?</td>\n",
       "      <td>0</td>\n",
       "      <td>1</td>\n",
       "      <td>1</td>\n",
       "      <td>50</td>\n",
       "      <td>65</td>\n",
       "      <td>11</td>\n",
       "      <td>9</td>\n",
       "      <td>0.0</td>\n",
       "      <td>19.0</td>\n",
       "      <td>0.00</td>\n",
       "      <td>2</td>\n",
       "      <td>0</td>\n",
       "    </tr>\n",
       "    <tr>\n",
       "      <th>4</th>\n",
       "      <td>4</td>\n",
       "      <td>9</td>\n",
       "      <td>10</td>\n",
       "      <td>Which one dissolve in water quikly sugar, salt, methane and carbon di oxide?</td>\n",
       "      <td>Which fish would survive in salt water?</td>\n",
       "      <td>0</td>\n",
       "      <td>3</td>\n",
       "      <td>1</td>\n",
       "      <td>76</td>\n",
       "      <td>39</td>\n",
       "      <td>13</td>\n",
       "      <td>7</td>\n",
       "      <td>2.0</td>\n",
       "      <td>20.0</td>\n",
       "      <td>0.10</td>\n",
       "      <td>4</td>\n",
       "      <td>2</td>\n",
       "    </tr>\n",
       "  </tbody>\n",
       "</table>\n",
       "</div>"
      ],
      "text/plain": [
       "   id  qid1  qid2  \\\n",
       "0   0     1     2   \n",
       "1   1     3     4   \n",
       "2   2     5     6   \n",
       "3   3     7     8   \n",
       "4   4     9    10   \n",
       "\n",
       "                                                                      question1  \\\n",
       "0            What is the step by step guide to invest in share market in india?   \n",
       "1                           What is the story of Kohinoor (Koh-i-Noor) Diamond?   \n",
       "2     How can I increase the speed of my internet connection while using a VPN?   \n",
       "3                            Why am I mentally very lonely? How can I solve it?   \n",
       "4  Which one dissolve in water quikly sugar, salt, methane and carbon di oxide?   \n",
       "\n",
       "                                                                                  question2  \\\n",
       "0                                 What is the step by step guide to invest in share market?   \n",
       "1  What would happen if the Indian government stole the Kohinoor (Koh-i-Noor) diamond back?   \n",
       "2                               How can Internet speed be increased by hacking through DNS?   \n",
       "3                         Find the remainder when [math]23^{24}[/math] is divided by 24,23?   \n",
       "4                                                   Which fish would survive in salt water?   \n",
       "\n",
       "   is_duplicate  freq_qid1  freq_qid2  q1_len  q2_len  q1_n_words  q2_n_words  \\\n",
       "0             0          1          1      66      57          14          12   \n",
       "1             0          4          1      51      88           8          13   \n",
       "2             0          1          1      73      59          14          10   \n",
       "3             0          1          1      50      65          11           9   \n",
       "4             0          3          1      76      39          13           7   \n",
       "\n",
       "   word_common  word_total  word_share  freq_q1+q2  freq_q1-q2  \n",
       "0         10.0        23.0        0.43           2           0  \n",
       "1          4.0        20.0        0.20           5           3  \n",
       "2          4.0        24.0        0.17           2           0  \n",
       "3          0.0        19.0        0.00           2           0  \n",
       "4          2.0        20.0        0.10           4           2  "
      ]
     },
     "execution_count": 15,
     "metadata": {},
     "output_type": "execute_result"
    }
   ],
   "source": [
    "df['freq_qid1'] = df.groupby('qid1')['qid1'].transform('count')\n",
    "df['freq_qid2'] = df.groupby('qid2')['qid2'].transform('count')\n",
    "df['q1_len'] = df['question1'].str.len()\n",
    "df['q2_len'] = df['question2'].str.len()\n",
    "df['q1_n_words'] = df['question1'].apply(lambda x: len(x.split(\" \")))\n",
    "df['q2_n_words'] = df['question2'].apply(lambda x: len(x.split(\" \")))\n",
    "\n",
    "def common_words(row):\n",
    "    l1 = set(map(lambda word: word.lower().strip(), row['question1'].split(\" \")))\n",
    "    l2 = set(map(lambda word: word.lower().strip(), row['question2'].split(\" \")))\n",
    "    return 1.0 * len(l1&l2)\n",
    "\n",
    "df['word_common'] = df.apply(common_words, axis=1)\n",
    "\n",
    "def total_words(row):\n",
    "    t1 = set(map(lambda word: word.lower().strip(), row['question1'].split(\" \")))\n",
    "    t2 = set(map(lambda word: word.lower().strip(), row['question2'].split(\" \")))\n",
    "    return 1.0 * (len(t1) + len(t2))\n",
    "\n",
    "df['word_total'] = df.apply(total_words, axis=1)\n",
    "\n",
    "df['word_share'] = round(df['word_common']/df['word_total'],2)\n",
    "\n",
    "df['freq_q1+q2'] = df['freq_qid1'] + df['freq_qid2']\n",
    "df['freq_q1-q2'] = abs(df['freq_qid1'] - df['freq_qid2'])\n",
    "\n",
    "df.to_csv(\"basic_feature_engineering_train.csv\", index = False)\n",
    "\n",
    "df.head()\n"
   ]
  },
  {
   "cell_type": "code",
   "execution_count": 16,
   "id": "51c693bb",
   "metadata": {
    "execution": {
     "iopub.execute_input": "2023-08-06T00:27:39.891049Z",
     "iopub.status.busy": "2023-08-06T00:27:39.890158Z",
     "iopub.status.idle": "2023-08-06T00:27:40.127841Z",
     "shell.execute_reply": "2023-08-06T00:27:40.126637Z"
    },
    "papermill": {
     "duration": 0.257268,
     "end_time": "2023-08-06T00:27:40.131209",
     "exception": false,
     "start_time": "2023-08-06T00:27:39.873941",
     "status": "completed"
    },
    "tags": []
   },
   "outputs": [
    {
     "data": {
      "text/html": [
       "<div>\n",
       "<style scoped>\n",
       "    .dataframe tbody tr th:only-of-type {\n",
       "        vertical-align: middle;\n",
       "    }\n",
       "\n",
       "    .dataframe tbody tr th {\n",
       "        vertical-align: top;\n",
       "    }\n",
       "\n",
       "    .dataframe thead th {\n",
       "        text-align: right;\n",
       "    }\n",
       "</style>\n",
       "<table border=\"1\" class=\"dataframe\">\n",
       "  <thead>\n",
       "    <tr style=\"text-align: right;\">\n",
       "      <th></th>\n",
       "      <th>id</th>\n",
       "      <th>qid1</th>\n",
       "      <th>qid2</th>\n",
       "      <th>is_duplicate</th>\n",
       "      <th>freq_qid1</th>\n",
       "      <th>freq_qid2</th>\n",
       "      <th>q1_len</th>\n",
       "      <th>q2_len</th>\n",
       "      <th>q1_n_words</th>\n",
       "      <th>q2_n_words</th>\n",
       "      <th>word_common</th>\n",
       "      <th>word_total</th>\n",
       "      <th>word_share</th>\n",
       "      <th>freq_q1+q2</th>\n",
       "      <th>freq_q1-q2</th>\n",
       "    </tr>\n",
       "  </thead>\n",
       "  <tbody>\n",
       "    <tr>\n",
       "      <th>count</th>\n",
       "      <td>404290.000000</td>\n",
       "      <td>404290.000000</td>\n",
       "      <td>404290.000000</td>\n",
       "      <td>404290.000000</td>\n",
       "      <td>404290.000000</td>\n",
       "      <td>404290.000000</td>\n",
       "      <td>404290.000000</td>\n",
       "      <td>404290.000000</td>\n",
       "      <td>404290.000000</td>\n",
       "      <td>404290.000000</td>\n",
       "      <td>404290.000000</td>\n",
       "      <td>404290.000000</td>\n",
       "      <td>404290.000000</td>\n",
       "      <td>404290.000000</td>\n",
       "      <td>404290.000000</td>\n",
       "    </tr>\n",
       "    <tr>\n",
       "      <th>mean</th>\n",
       "      <td>202144.500000</td>\n",
       "      <td>217243.942418</td>\n",
       "      <td>220955.655337</td>\n",
       "      <td>0.369198</td>\n",
       "      <td>2.827609</td>\n",
       "      <td>3.046961</td>\n",
       "      <td>59.536711</td>\n",
       "      <td>60.108370</td>\n",
       "      <td>10.944594</td>\n",
       "      <td>11.185125</td>\n",
       "      <td>4.511610</td>\n",
       "      <td>21.126112</td>\n",
       "      <td>0.223347</td>\n",
       "      <td>5.874570</td>\n",
       "      <td>1.845715</td>\n",
       "    </tr>\n",
       "    <tr>\n",
       "      <th>std</th>\n",
       "      <td>116708.614503</td>\n",
       "      <td>157751.700002</td>\n",
       "      <td>159903.182629</td>\n",
       "      <td>0.482588</td>\n",
       "      <td>4.487418</td>\n",
       "      <td>6.026871</td>\n",
       "      <td>29.940650</td>\n",
       "      <td>33.863862</td>\n",
       "      <td>5.431944</td>\n",
       "      <td>6.311069</td>\n",
       "      <td>3.098656</td>\n",
       "      <td>8.592622</td>\n",
       "      <td>0.128243</td>\n",
       "      <td>9.091068</td>\n",
       "      <td>5.187882</td>\n",
       "    </tr>\n",
       "    <tr>\n",
       "      <th>min</th>\n",
       "      <td>0.000000</td>\n",
       "      <td>1.000000</td>\n",
       "      <td>2.000000</td>\n",
       "      <td>0.000000</td>\n",
       "      <td>1.000000</td>\n",
       "      <td>1.000000</td>\n",
       "      <td>1.000000</td>\n",
       "      <td>1.000000</td>\n",
       "      <td>1.000000</td>\n",
       "      <td>1.000000</td>\n",
       "      <td>0.000000</td>\n",
       "      <td>3.000000</td>\n",
       "      <td>0.000000</td>\n",
       "      <td>2.000000</td>\n",
       "      <td>0.000000</td>\n",
       "    </tr>\n",
       "    <tr>\n",
       "      <th>25%</th>\n",
       "      <td>101072.250000</td>\n",
       "      <td>74437.500000</td>\n",
       "      <td>74727.000000</td>\n",
       "      <td>0.000000</td>\n",
       "      <td>1.000000</td>\n",
       "      <td>1.000000</td>\n",
       "      <td>39.000000</td>\n",
       "      <td>39.000000</td>\n",
       "      <td>7.000000</td>\n",
       "      <td>7.000000</td>\n",
       "      <td>2.000000</td>\n",
       "      <td>15.000000</td>\n",
       "      <td>0.120000</td>\n",
       "      <td>2.000000</td>\n",
       "      <td>0.000000</td>\n",
       "    </tr>\n",
       "    <tr>\n",
       "      <th>50%</th>\n",
       "      <td>202144.500000</td>\n",
       "      <td>192182.000000</td>\n",
       "      <td>197052.000000</td>\n",
       "      <td>0.000000</td>\n",
       "      <td>1.000000</td>\n",
       "      <td>1.000000</td>\n",
       "      <td>52.000000</td>\n",
       "      <td>51.000000</td>\n",
       "      <td>10.000000</td>\n",
       "      <td>10.000000</td>\n",
       "      <td>4.000000</td>\n",
       "      <td>19.000000</td>\n",
       "      <td>0.220000</td>\n",
       "      <td>3.000000</td>\n",
       "      <td>0.000000</td>\n",
       "    </tr>\n",
       "    <tr>\n",
       "      <th>75%</th>\n",
       "      <td>303216.750000</td>\n",
       "      <td>346573.500000</td>\n",
       "      <td>354692.500000</td>\n",
       "      <td>1.000000</td>\n",
       "      <td>3.000000</td>\n",
       "      <td>2.000000</td>\n",
       "      <td>72.000000</td>\n",
       "      <td>72.000000</td>\n",
       "      <td>13.000000</td>\n",
       "      <td>13.000000</td>\n",
       "      <td>6.000000</td>\n",
       "      <td>25.000000</td>\n",
       "      <td>0.320000</td>\n",
       "      <td>5.000000</td>\n",
       "      <td>2.000000</td>\n",
       "    </tr>\n",
       "    <tr>\n",
       "      <th>max</th>\n",
       "      <td>404289.000000</td>\n",
       "      <td>537932.000000</td>\n",
       "      <td>537933.000000</td>\n",
       "      <td>1.000000</td>\n",
       "      <td>50.000000</td>\n",
       "      <td>120.000000</td>\n",
       "      <td>623.000000</td>\n",
       "      <td>1169.000000</td>\n",
       "      <td>125.000000</td>\n",
       "      <td>237.000000</td>\n",
       "      <td>41.000000</td>\n",
       "      <td>166.000000</td>\n",
       "      <td>0.500000</td>\n",
       "      <td>157.000000</td>\n",
       "      <td>119.000000</td>\n",
       "    </tr>\n",
       "  </tbody>\n",
       "</table>\n",
       "</div>"
      ],
      "text/plain": [
       "                  id           qid1           qid2   is_duplicate  \\\n",
       "count  404290.000000  404290.000000  404290.000000  404290.000000   \n",
       "mean   202144.500000  217243.942418  220955.655337       0.369198   \n",
       "std    116708.614503  157751.700002  159903.182629       0.482588   \n",
       "min         0.000000       1.000000       2.000000       0.000000   \n",
       "25%    101072.250000   74437.500000   74727.000000       0.000000   \n",
       "50%    202144.500000  192182.000000  197052.000000       0.000000   \n",
       "75%    303216.750000  346573.500000  354692.500000       1.000000   \n",
       "max    404289.000000  537932.000000  537933.000000       1.000000   \n",
       "\n",
       "           freq_qid1      freq_qid2         q1_len         q2_len  \\\n",
       "count  404290.000000  404290.000000  404290.000000  404290.000000   \n",
       "mean        2.827609       3.046961      59.536711      60.108370   \n",
       "std         4.487418       6.026871      29.940650      33.863862   \n",
       "min         1.000000       1.000000       1.000000       1.000000   \n",
       "25%         1.000000       1.000000      39.000000      39.000000   \n",
       "50%         1.000000       1.000000      52.000000      51.000000   \n",
       "75%         3.000000       2.000000      72.000000      72.000000   \n",
       "max        50.000000     120.000000     623.000000    1169.000000   \n",
       "\n",
       "          q1_n_words     q2_n_words    word_common     word_total  \\\n",
       "count  404290.000000  404290.000000  404290.000000  404290.000000   \n",
       "mean       10.944594      11.185125       4.511610      21.126112   \n",
       "std         5.431944       6.311069       3.098656       8.592622   \n",
       "min         1.000000       1.000000       0.000000       3.000000   \n",
       "25%         7.000000       7.000000       2.000000      15.000000   \n",
       "50%        10.000000      10.000000       4.000000      19.000000   \n",
       "75%        13.000000      13.000000       6.000000      25.000000   \n",
       "max       125.000000     237.000000      41.000000     166.000000   \n",
       "\n",
       "          word_share     freq_q1+q2     freq_q1-q2  \n",
       "count  404290.000000  404290.000000  404290.000000  \n",
       "mean        0.223347       5.874570       1.845715  \n",
       "std         0.128243       9.091068       5.187882  \n",
       "min         0.000000       2.000000       0.000000  \n",
       "25%         0.120000       2.000000       0.000000  \n",
       "50%         0.220000       3.000000       0.000000  \n",
       "75%         0.320000       5.000000       2.000000  \n",
       "max         0.500000     157.000000     119.000000  "
      ]
     },
     "execution_count": 16,
     "metadata": {},
     "output_type": "execute_result"
    }
   ],
   "source": [
    "df.describe()"
   ]
  },
  {
   "cell_type": "code",
   "execution_count": 17,
   "id": "6d36c705",
   "metadata": {
    "execution": {
     "iopub.execute_input": "2023-08-06T00:27:40.164658Z",
     "iopub.status.busy": "2023-08-06T00:27:40.164362Z",
     "iopub.status.idle": "2023-08-06T00:27:40.194879Z",
     "shell.execute_reply": "2023-08-06T00:27:40.193878Z"
    },
    "papermill": {
     "duration": 0.048761,
     "end_time": "2023-08-06T00:27:40.197043",
     "exception": false,
     "start_time": "2023-08-06T00:27:40.148282",
     "status": "completed"
    },
    "tags": []
   },
   "outputs": [
    {
     "name": "stdout",
     "output_type": "stream",
     "text": [
      "Number of quesitons with minimum length [quesiton 1] :  66\n"
     ]
    }
   ],
   "source": [
    "print(\"Number of quesitons with minimum length [quesiton 1] : \",df[df['q1_n_words']==1].shape[0])"
   ]
  },
  {
   "cell_type": "code",
   "execution_count": 18,
   "id": "0abbaf65",
   "metadata": {
    "collapsed": true,
    "execution": {
     "iopub.execute_input": "2023-08-06T00:27:40.232458Z",
     "iopub.status.busy": "2023-08-06T00:27:40.232155Z",
     "iopub.status.idle": "2023-08-06T00:27:43.208808Z",
     "shell.execute_reply": "2023-08-06T00:27:43.207790Z"
    },
    "jupyter": {
     "outputs_hidden": true
    },
    "papermill": {
     "duration": 2.995899,
     "end_time": "2023-08-06T00:27:43.211790",
     "exception": false,
     "start_time": "2023-08-06T00:27:40.215891",
     "status": "completed"
    },
    "tags": []
   },
   "outputs": [
    {
     "name": "stderr",
     "output_type": "stream",
     "text": [
      "/tmp/ipykernel_23/1325670420.py:8: UserWarning: \n",
      "\n",
      "`distplot` is a deprecated function and will be removed in seaborn v0.14.0.\n",
      "\n",
      "Please adapt your code to use either `displot` (a figure-level function with\n",
      "similar flexibility) or `histplot` (an axes-level function for histograms).\n",
      "\n",
      "For a guide to updating your code to use the new functions, please see\n",
      "https://gist.github.com/mwaskom/de44147ed2974457ad6372750bbe5751\n",
      "\n",
      "  sns.distplot(df[df['is_duplicate']==0]['word_share'], label = 'non_duplicate')\n",
      "/tmp/ipykernel_23/1325670420.py:9: UserWarning: \n",
      "\n",
      "`distplot` is a deprecated function and will be removed in seaborn v0.14.0.\n",
      "\n",
      "Please adapt your code to use either `displot` (a figure-level function with\n",
      "similar flexibility) or `histplot` (an axes-level function for histograms).\n",
      "\n",
      "For a guide to updating your code to use the new functions, please see\n",
      "https://gist.github.com/mwaskom/de44147ed2974457ad6372750bbe5751\n",
      "\n",
      "  sns.distplot(df[df['is_duplicate']==1]['word_share'], label = 'duplicate')\n"
     ]
    },
    {
     "data": {
      "image/png": "[encoded data removed]",
      "text/plain": [
       "<Figure size 1200x800 with 2 Axes>"
      ]
     },
     "metadata": {},
     "output_type": "display_data"
    }
   ],
   "source": [
    "#feature words share\n",
    "\n",
    "plt.figure(figsize=(12,8))\n",
    "plt.subplot(1,2,1)\n",
    "sns.violinplot(x='is_duplicate', y='word_share', data = df[0:])\n",
    "\n",
    "plt.subplot(1,2,2)\n",
    "sns.distplot(df[df['is_duplicate']==0]['word_share'], label = 'non_duplicate')\n",
    "sns.distplot(df[df['is_duplicate']==1]['word_share'], label = 'duplicate')\n",
    "plt.show()\n"
   ]
  },
  {
   "cell_type": "markdown",
   "id": "35e302b9",
   "metadata": {
    "papermill": {
     "duration": 0.016472,
     "end_time": "2023-08-06T00:27:43.248540",
     "exception": false,
     "start_time": "2023-08-06T00:27:43.232068",
     "status": "completed"
    },
    "tags": []
   },
   "source": [
    "Imp feature as the distributions are different"
   ]
  },
  {
   "cell_type": "code",
   "execution_count": 19,
   "id": "561492a4",
   "metadata": {
    "execution": {
     "iopub.execute_input": "2023-08-06T00:27:43.283035Z",
     "iopub.status.busy": "2023-08-06T00:27:43.282713Z",
     "iopub.status.idle": "2023-08-06T00:27:47.383873Z",
     "shell.execute_reply": "2023-08-06T00:27:47.383024Z"
    },
    "papermill": {
     "duration": 4.120691,
     "end_time": "2023-08-06T00:27:47.385928",
     "exception": false,
     "start_time": "2023-08-06T00:27:43.265237",
     "status": "completed"
    },
    "tags": []
   },
   "outputs": [
    {
     "name": "stderr",
     "output_type": "stream",
     "text": [
      "/tmp/ipykernel_23/2429630818.py:8: UserWarning: \n",
      "\n",
      "`distplot` is a deprecated function and will be removed in seaborn v0.14.0.\n",
      "\n",
      "Please adapt your code to use either `displot` (a figure-level function with\n",
      "similar flexibility) or `histplot` (an axes-level function for histograms).\n",
      "\n",
      "For a guide to updating your code to use the new functions, please see\n",
      "https://gist.github.com/mwaskom/de44147ed2974457ad6372750bbe5751\n",
      "\n",
      "  sns.distplot(df[df['is_duplicate']==0]['word_common'], label = 'non_duplicate')\n",
      "/tmp/ipykernel_23/2429630818.py:9: UserWarning: \n",
      "\n",
      "`distplot` is a deprecated function and will be removed in seaborn v0.14.0.\n",
      "\n",
      "Please adapt your code to use either `displot` (a figure-level function with\n",
      "similar flexibility) or `histplot` (an axes-level function for histograms).\n",
      "\n",
      "For a guide to updating your code to use the new functions, please see\n",
      "https://gist.github.com/mwaskom/de44147ed2974457ad6372750bbe5751\n",
      "\n",
      "  sns.distplot(df[df['is_duplicate']==1]['word_common'], label = 'duplicate')\n"
     ]
    },
    {
     "data": {
      "image/png": "[encoded data removed]",
      "text/plain": [
       "<Figure size 1200x800 with 2 Axes>"
      ]
     },
     "metadata": {},
     "output_type": "display_data"
    }
   ],
   "source": [
    "#feature words common\n",
    "\n",
    "plt.figure(figsize=(12,8))\n",
    "plt.subplot(1,2,1)\n",
    "sns.violinplot(x='is_duplicate', y='word_common', data = df[0:])\n",
    "\n",
    "plt.subplot(1,2,2)\n",
    "sns.distplot(df[df['is_duplicate']==0]['word_common'], label = 'non_duplicate')\n",
    "sns.distplot(df[df['is_duplicate']==1]['word_common'], label = 'duplicate')\n",
    "plt.show()"
   ]
  },
  {
   "cell_type": "markdown",
   "id": "563ca7b6",
   "metadata": {
    "papermill": {
     "duration": 0.017882,
     "end_time": "2023-08-06T00:27:47.422294",
     "exception": false,
     "start_time": "2023-08-06T00:27:47.404412",
     "status": "completed"
    },
    "tags": []
   },
   "source": [
    "Not so important feature"
   ]
  },
  {
   "cell_type": "markdown",
   "id": "f3d17d8f",
   "metadata": {
    "papermill": {
     "duration": 0.020644,
     "end_time": "2023-08-06T00:27:47.461095",
     "exception": false,
     "start_time": "2023-08-06T00:27:47.440451",
     "status": "completed"
    },
    "tags": []
   },
   "source": [
    "***Preprocessing of Text***\n",
    "\n",
    "- Remove html tags  (quora contains htms tags as well)\n",
    "- remove punctuation\n",
    "- preform stemming\n",
    "- remove stop words\n",
    "- expanding contractions"
   ]
  },
  {
   "cell_type": "code",
   "execution_count": 20,
   "id": "46d1a5a3",
   "metadata": {
    "execution": {
     "iopub.execute_input": "2023-08-06T00:27:47.499514Z",
     "iopub.status.busy": "2023-08-06T00:27:47.499168Z",
     "iopub.status.idle": "2023-08-06T00:27:48.717300Z",
     "shell.execute_reply": "2023-08-06T00:27:48.716265Z"
    },
    "papermill": {
     "duration": 1.240357,
     "end_time": "2023-08-06T00:27:48.719750",
     "exception": false,
     "start_time": "2023-08-06T00:27:47.479393",
     "status": "completed"
    },
    "tags": []
   },
   "outputs": [],
   "source": [
    "import re\n",
    "from nltk.stem import PorterStemmer\n",
    "from bs4 import BeautifulSoup\n",
    "\n",
    "def preprocess(x):\n",
    "    x = str(x).lower().strip()\n",
    "    \n",
    "    # Replace certial special chars with their string equivalents\n",
    "    x = x.replace('%', ' percent').replace('$',' dollar').replace(',000,000','m').replace(',000','k').replace(\"won't\", 'will not').replace('cannot', 'can not').replace(\"n't\", ' not').replace(\"what's\", 'what is').replace(\"'ve\",' have').replace(\"he's\", 'he is').replace(\"she's\",'she is').replace(\"'ll\", ' will')\n",
    "    \n",
    "    x = re.sub(r'([0-9]+)000000000' , r'\\1b', x)\n",
    "    x = re.sub(r'([0-9]+)000000' , r'\\1m', x)\n",
    "    x = re.sub(r'([0-9]+)000' , r'\\1k', x)\n",
    "\n",
    "    porter = PorterStemmer()\n",
    "    if type(x) == type(''):\n",
    "        x = porter.stem(x)\n",
    "        x = BeautifulSoup(x)\n",
    "        x = x.get_text()\n",
    "        \n",
    "    pattern = re.compile('\\W')\n",
    "    \n",
    "    \n",
    "    if type(x) == type(''):\n",
    "        x = re.sub(pattern, ' ',x).strip()\n",
    "    \n",
    "    \n",
    "    return x\n",
    "    "
   ]
  },
  {
   "cell_type": "code",
   "execution_count": 21,
   "id": "0ba5129d",
   "metadata": {
    "execution": {
     "iopub.execute_input": "2023-08-06T00:27:48.759250Z",
     "iopub.status.busy": "2023-08-06T00:27:48.758553Z",
     "iopub.status.idle": "2023-08-06T00:27:48.771294Z",
     "shell.execute_reply": "2023-08-06T00:27:48.770283Z"
    },
    "papermill": {
     "duration": 0.035294,
     "end_time": "2023-08-06T00:27:48.773584",
     "exception": false,
     "start_time": "2023-08-06T00:27:48.738290",
     "status": "completed"
    },
    "tags": []
   },
   "outputs": [
    {
     "data": {
      "text/plain": [
       "'i have already  was not done'"
      ]
     },
     "execution_count": 21,
     "metadata": {},
     "output_type": "execute_result"
    }
   ],
   "source": [
    "preprocess(\"I've already! wasn't <b>done</b>?\")"
   ]
  },
  {
   "cell_type": "markdown",
   "id": "74234c4f",
   "metadata": {
    "papermill": {
     "duration": 0.019533,
     "end_time": "2023-08-06T00:27:48.812384",
     "exception": false,
     "start_time": "2023-08-06T00:27:48.792851",
     "status": "completed"
    },
    "tags": []
   },
   "source": [
    "***Advance Feature Extraction***\n",
    "\n",
    "- tokens = set of unique words in a sentence\n",
    "- stop words = nlp stop words\n",
    "- word = token which is not a stop word\n"
   ]
  },
  {
   "cell_type": "markdown",
   "id": "93a620c1",
   "metadata": {
    "papermill": {
     "duration": 0.019681,
     "end_time": "2023-08-06T00:27:48.851675",
     "exception": false,
     "start_time": "2023-08-06T00:27:48.831994",
     "status": "completed"
    },
    "tags": []
   },
   "source": [
    "Token Based\n",
    "- cwc_min = common_word_count/min(len(q1_words),len(q2_words))\n",
    "- cwc-max = common_word_count/max(len(q1_words),len(q2_words))\n",
    "- csc_min = common_stop_count/min(len(q1_stops),len(q2_stops))\n",
    "- csc-max = common_stop_count/max(len(q1_stops),len(q2_stops))\n",
    "- ctc_min = common_token_count/min(len(q1_tokens),len(q2_tokens))\n",
    "- ctc-max = common_token_count/max(len(q1_tokens),len(q2_tokens))\n",
    "- last_word_eq = int(q1_token[-1] == q2_token[-1])\n",
    "- first_word_eq = int(q1_token[0] == q2_token[0])\n",
    "\n",
    "Length Based\n",
    "\n",
    "- mean_len = (len(q1_tokens) + len(q2_tokens)) / 2\n",
    "- abs_len_diff = abs(len(q1_tokens) - len(q2_tokens))\n",
    "- longest_substr_ratio : len(longest_common_substr) / min(len(q1_tokens),len(q2_tokens))\n",
    "\n",
    "***fuzzywuzzy***\n",
    "\n",
    "gives value b/w 0-100 \n",
    "0 - dissimilar\n",
    "100 - similar\n",
    "\n",
    "- fuzz_ratio : checks the edit distance between 2 strings [minimum no. of add/delete/insert operations required to make strings equals]\n",
    "    \n",
    "    issue 1) yankees, newyork yankees = 60 [newyork needs to be added sp low score but both are same teams]\n",
    "          2) Newyork mets, Newyork Yankees = 75 , edit distance is less so high score but both are different teams\n",
    "          \n",
    "- fuzz_partial_ratio : checks if any partial substring matches completely or not [longer the substring higher the value]\n",
    "    \n",
    "    issue : newyork vs atlanta , atlanta vs newyork will give low score\n",
    "    \n",
    "- token_sort_ratio : take all the tokens, sort them and them compare\n",
    "    \n",
    "    issue : s1 = mariners vs angels\n",
    "            s2 = los angeles angels of anaheim seattle mariners \n",
    "            It will not give very high score as s2 is long with extra tokens\n",
    "         \n",
    "- token_set_ratio : apply token sort , so s1 = angels mariners vs , s2 = anaheim angeles angels los mariners of seattle\n",
    "    \n",
    "    now t0 = [sorted intersection]\n",
    "        t1 = [sorted_intersection] + [sorted rest of s1]\n",
    "        t2 = [sorted_intersection] + [sorted rest of s2]\n",
    "        \n",
    "    and then compare each pair and take the max fuzz value among all \n",
    "\n",
    "    issue : s1 = sirhan, sirhan   s2 = sirhan   : value is 100, so repetitive words have issues\n",
    "\n",
    "\n"
   ]
  },
  {
   "cell_type": "code",
   "execution_count": 22,
   "id": "8ab6def3",
   "metadata": {
    "execution": {
     "iopub.execute_input": "2023-08-06T00:27:48.892431Z",
     "iopub.status.busy": "2023-08-06T00:27:48.892154Z",
     "iopub.status.idle": "2023-08-06T00:27:48.909934Z",
     "shell.execute_reply": "2023-08-06T00:27:48.909092Z"
    },
    "papermill": {
     "duration": 0.040371,
     "end_time": "2023-08-06T00:27:48.911888",
     "exception": false,
     "start_time": "2023-08-06T00:27:48.871517",
     "status": "completed"
    },
    "tags": []
   },
   "outputs": [
    {
     "data": {
      "text/html": [
       "<div>\n",
       "<style scoped>\n",
       "    .dataframe tbody tr th:only-of-type {\n",
       "        vertical-align: middle;\n",
       "    }\n",
       "\n",
       "    .dataframe tbody tr th {\n",
       "        vertical-align: top;\n",
       "    }\n",
       "\n",
       "    .dataframe thead th {\n",
       "        text-align: right;\n",
       "    }\n",
       "</style>\n",
       "<table border=\"1\" class=\"dataframe\">\n",
       "  <thead>\n",
       "    <tr style=\"text-align: right;\">\n",
       "      <th></th>\n",
       "      <th>id</th>\n",
       "      <th>qid1</th>\n",
       "      <th>qid2</th>\n",
       "      <th>question1</th>\n",
       "      <th>question2</th>\n",
       "      <th>is_duplicate</th>\n",
       "      <th>freq_qid1</th>\n",
       "      <th>freq_qid2</th>\n",
       "      <th>q1_len</th>\n",
       "      <th>q2_len</th>\n",
       "      <th>q1_n_words</th>\n",
       "      <th>q2_n_words</th>\n",
       "      <th>word_common</th>\n",
       "      <th>word_total</th>\n",
       "      <th>word_share</th>\n",
       "      <th>freq_q1+q2</th>\n",
       "      <th>freq_q1-q2</th>\n",
       "    </tr>\n",
       "  </thead>\n",
       "  <tbody>\n",
       "    <tr>\n",
       "      <th>0</th>\n",
       "      <td>0</td>\n",
       "      <td>1</td>\n",
       "      <td>2</td>\n",
       "      <td>What is the step by step guide to invest in share market in india?</td>\n",
       "      <td>What is the step by step guide to invest in share market?</td>\n",
       "      <td>0</td>\n",
       "      <td>1</td>\n",
       "      <td>1</td>\n",
       "      <td>66</td>\n",
       "      <td>57</td>\n",
       "      <td>14</td>\n",
       "      <td>12</td>\n",
       "      <td>10.0</td>\n",
       "      <td>23.0</td>\n",
       "      <td>0.43</td>\n",
       "      <td>2</td>\n",
       "      <td>0</td>\n",
       "    </tr>\n",
       "    <tr>\n",
       "      <th>1</th>\n",
       "      <td>1</td>\n",
       "      <td>3</td>\n",
       "      <td>4</td>\n",
       "      <td>What is the story of Kohinoor (Koh-i-Noor) Diamond?</td>\n",
       "      <td>What would happen if the Indian government stole the Kohinoor (Koh-i-Noor) diamond back?</td>\n",
       "      <td>0</td>\n",
       "      <td>4</td>\n",
       "      <td>1</td>\n",
       "      <td>51</td>\n",
       "      <td>88</td>\n",
       "      <td>8</td>\n",
       "      <td>13</td>\n",
       "      <td>4.0</td>\n",
       "      <td>20.0</td>\n",
       "      <td>0.20</td>\n",
       "      <td>5</td>\n",
       "      <td>3</td>\n",
       "    </tr>\n",
       "    <tr>\n",
       "      <th>2</th>\n",
       "      <td>2</td>\n",
       "      <td>5</td>\n",
       "      <td>6</td>\n",
       "      <td>How can I increase the speed of my internet connection while using a VPN?</td>\n",
       "      <td>How can Internet speed be increased by hacking through DNS?</td>\n",
       "      <td>0</td>\n",
       "      <td>1</td>\n",
       "      <td>1</td>\n",
       "      <td>73</td>\n",
       "      <td>59</td>\n",
       "      <td>14</td>\n",
       "      <td>10</td>\n",
       "      <td>4.0</td>\n",
       "      <td>24.0</td>\n",
       "      <td>0.17</td>\n",
       "      <td>2</td>\n",
       "      <td>0</td>\n",
       "    </tr>\n",
       "    <tr>\n",
       "      <th>3</th>\n",
       "      <td>3</td>\n",
       "      <td>7</td>\n",
       "      <td>8</td>\n",
       "      <td>Why am I mentally very lonely? How can I solve it?</td>\n",
       "      <td>Find the remainder when [math]23^{24}[/math] is divided by 24,23?</td>\n",
       "      <td>0</td>\n",
       "      <td>1</td>\n",
       "      <td>1</td>\n",
       "      <td>50</td>\n",
       "      <td>65</td>\n",
       "      <td>11</td>\n",
       "      <td>9</td>\n",
       "      <td>0.0</td>\n",
       "      <td>19.0</td>\n",
       "      <td>0.00</td>\n",
       "      <td>2</td>\n",
       "      <td>0</td>\n",
       "    </tr>\n",
       "    <tr>\n",
       "      <th>4</th>\n",
       "      <td>4</td>\n",
       "      <td>9</td>\n",
       "      <td>10</td>\n",
       "      <td>Which one dissolve in water quikly sugar, salt, methane and carbon di oxide?</td>\n",
       "      <td>Which fish would survive in salt water?</td>\n",
       "      <td>0</td>\n",
       "      <td>3</td>\n",
       "      <td>1</td>\n",
       "      <td>76</td>\n",
       "      <td>39</td>\n",
       "      <td>13</td>\n",
       "      <td>7</td>\n",
       "      <td>2.0</td>\n",
       "      <td>20.0</td>\n",
       "      <td>0.10</td>\n",
       "      <td>4</td>\n",
       "      <td>2</td>\n",
       "    </tr>\n",
       "  </tbody>\n",
       "</table>\n",
       "</div>"
      ],
      "text/plain": [
       "   id  qid1  qid2  \\\n",
       "0   0     1     2   \n",
       "1   1     3     4   \n",
       "2   2     5     6   \n",
       "3   3     7     8   \n",
       "4   4     9    10   \n",
       "\n",
       "                                                                      question1  \\\n",
       "0            What is the step by step guide to invest in share market in india?   \n",
       "1                           What is the story of Kohinoor (Koh-i-Noor) Diamond?   \n",
       "2     How can I increase the speed of my internet connection while using a VPN?   \n",
       "3                            Why am I mentally very lonely? How can I solve it?   \n",
       "4  Which one dissolve in water quikly sugar, salt, methane and carbon di oxide?   \n",
       "\n",
       "                                                                                  question2  \\\n",
       "0                                 What is the step by step guide to invest in share market?   \n",
       "1  What would happen if the Indian government stole the Kohinoor (Koh-i-Noor) diamond back?   \n",
       "2                               How can Internet speed be increased by hacking through DNS?   \n",
       "3                         Find the remainder when [math]23^{24}[/math] is divided by 24,23?   \n",
       "4                                                   Which fish would survive in salt water?   \n",
       "\n",
       "   is_duplicate  freq_qid1  freq_qid2  q1_len  q2_len  q1_n_words  q2_n_words  \\\n",
       "0             0          1          1      66      57          14          12   \n",
       "1             0          4          1      51      88           8          13   \n",
       "2             0          1          1      73      59          14          10   \n",
       "3             0          1          1      50      65          11           9   \n",
       "4             0          3          1      76      39          13           7   \n",
       "\n",
       "   word_common  word_total  word_share  freq_q1+q2  freq_q1-q2  \n",
       "0         10.0        23.0        0.43           2           0  \n",
       "1          4.0        20.0        0.20           5           3  \n",
       "2          4.0        24.0        0.17           2           0  \n",
       "3          0.0        19.0        0.00           2           0  \n",
       "4          2.0        20.0        0.10           4           2  "
      ]
     },
     "execution_count": 22,
     "metadata": {},
     "output_type": "execute_result"
    }
   ],
   "source": [
    "df.head()"
   ]
  },
  {
   "cell_type": "code",
   "execution_count": 23,
   "id": "2c15ce8c",
   "metadata": {
    "execution": {
     "iopub.execute_input": "2023-08-06T00:27:48.950095Z",
     "iopub.status.busy": "2023-08-06T00:27:48.949354Z",
     "iopub.status.idle": "2023-08-06T00:31:30.110066Z",
     "shell.execute_reply": "2023-08-06T00:31:30.109032Z"
    },
    "papermill": {
     "duration": 221.200805,
     "end_time": "2023-08-06T00:31:30.131206",
     "exception": false,
     "start_time": "2023-08-06T00:27:48.930401",
     "status": "completed"
    },
    "tags": []
   },
   "outputs": [
    {
     "name": "stderr",
     "output_type": "stream",
     "text": [
      "/tmp/ipykernel_23/1614884235.py:18: MarkupResemblesLocatorWarning: The input looks more like a filename than markup. You may want to open this file and pass the filehandle into Beautiful Soup.\n",
      "  x = BeautifulSoup(x)\n"
     ]
    },
    {
     "data": {
      "text/html": [
       "<div>\n",
       "<style scoped>\n",
       "    .dataframe tbody tr th:only-of-type {\n",
       "        vertical-align: middle;\n",
       "    }\n",
       "\n",
       "    .dataframe tbody tr th {\n",
       "        vertical-align: top;\n",
       "    }\n",
       "\n",
       "    .dataframe thead th {\n",
       "        text-align: right;\n",
       "    }\n",
       "</style>\n",
       "<table border=\"1\" class=\"dataframe\">\n",
       "  <thead>\n",
       "    <tr style=\"text-align: right;\">\n",
       "      <th></th>\n",
       "      <th>id</th>\n",
       "      <th>qid1</th>\n",
       "      <th>qid2</th>\n",
       "      <th>question1</th>\n",
       "      <th>question2</th>\n",
       "      <th>is_duplicate</th>\n",
       "      <th>freq_qid1</th>\n",
       "      <th>freq_qid2</th>\n",
       "      <th>q1_len</th>\n",
       "      <th>q2_len</th>\n",
       "      <th>q1_n_words</th>\n",
       "      <th>q2_n_words</th>\n",
       "      <th>word_common</th>\n",
       "      <th>word_total</th>\n",
       "      <th>word_share</th>\n",
       "      <th>freq_q1+q2</th>\n",
       "      <th>freq_q1-q2</th>\n",
       "    </tr>\n",
       "  </thead>\n",
       "  <tbody>\n",
       "    <tr>\n",
       "      <th>0</th>\n",
       "      <td>0</td>\n",
       "      <td>1</td>\n",
       "      <td>2</td>\n",
       "      <td>what is the step by step guide to invest in share market in india</td>\n",
       "      <td>what is the step by step guide to invest in share market</td>\n",
       "      <td>0</td>\n",
       "      <td>1</td>\n",
       "      <td>1</td>\n",
       "      <td>66</td>\n",
       "      <td>57</td>\n",
       "      <td>14</td>\n",
       "      <td>12</td>\n",
       "      <td>10.0</td>\n",
       "      <td>23.0</td>\n",
       "      <td>0.43</td>\n",
       "      <td>2</td>\n",
       "      <td>0</td>\n",
       "    </tr>\n",
       "    <tr>\n",
       "      <th>1</th>\n",
       "      <td>1</td>\n",
       "      <td>3</td>\n",
       "      <td>4</td>\n",
       "      <td>what is the story of kohinoor  koh i noor  diamond</td>\n",
       "      <td>what would happen if the indian government stole the kohinoor  koh i noor  diamond back</td>\n",
       "      <td>0</td>\n",
       "      <td>4</td>\n",
       "      <td>1</td>\n",
       "      <td>51</td>\n",
       "      <td>88</td>\n",
       "      <td>8</td>\n",
       "      <td>13</td>\n",
       "      <td>4.0</td>\n",
       "      <td>20.0</td>\n",
       "      <td>0.20</td>\n",
       "      <td>5</td>\n",
       "      <td>3</td>\n",
       "    </tr>\n",
       "    <tr>\n",
       "      <th>2</th>\n",
       "      <td>2</td>\n",
       "      <td>5</td>\n",
       "      <td>6</td>\n",
       "      <td>how can i increase the speed of my internet connection while using a vpn</td>\n",
       "      <td>how can internet speed be increased by hacking through dns</td>\n",
       "      <td>0</td>\n",
       "      <td>1</td>\n",
       "      <td>1</td>\n",
       "      <td>73</td>\n",
       "      <td>59</td>\n",
       "      <td>14</td>\n",
       "      <td>10</td>\n",
       "      <td>4.0</td>\n",
       "      <td>24.0</td>\n",
       "      <td>0.17</td>\n",
       "      <td>2</td>\n",
       "      <td>0</td>\n",
       "    </tr>\n",
       "    <tr>\n",
       "      <th>3</th>\n",
       "      <td>3</td>\n",
       "      <td>7</td>\n",
       "      <td>8</td>\n",
       "      <td>why am i mentally very lonely  how can i solve it</td>\n",
       "      <td>find the remainder when  math 23  24   math  is divided by 24 23</td>\n",
       "      <td>0</td>\n",
       "      <td>1</td>\n",
       "      <td>1</td>\n",
       "      <td>50</td>\n",
       "      <td>65</td>\n",
       "      <td>11</td>\n",
       "      <td>9</td>\n",
       "      <td>0.0</td>\n",
       "      <td>19.0</td>\n",
       "      <td>0.00</td>\n",
       "      <td>2</td>\n",
       "      <td>0</td>\n",
       "    </tr>\n",
       "    <tr>\n",
       "      <th>4</th>\n",
       "      <td>4</td>\n",
       "      <td>9</td>\n",
       "      <td>10</td>\n",
       "      <td>which one dissolve in water quikly sugar  salt  methane and carbon di oxide</td>\n",
       "      <td>which fish would survive in salt water</td>\n",
       "      <td>0</td>\n",
       "      <td>3</td>\n",
       "      <td>1</td>\n",
       "      <td>76</td>\n",
       "      <td>39</td>\n",
       "      <td>13</td>\n",
       "      <td>7</td>\n",
       "      <td>2.0</td>\n",
       "      <td>20.0</td>\n",
       "      <td>0.10</td>\n",
       "      <td>4</td>\n",
       "      <td>2</td>\n",
       "    </tr>\n",
       "  </tbody>\n",
       "</table>\n",
       "</div>"
      ],
      "text/plain": [
       "   id  qid1  qid2  \\\n",
       "0   0     1     2   \n",
       "1   1     3     4   \n",
       "2   2     5     6   \n",
       "3   3     7     8   \n",
       "4   4     9    10   \n",
       "\n",
       "                                                                     question1  \\\n",
       "0            what is the step by step guide to invest in share market in india   \n",
       "1                           what is the story of kohinoor  koh i noor  diamond   \n",
       "2     how can i increase the speed of my internet connection while using a vpn   \n",
       "3                            why am i mentally very lonely  how can i solve it   \n",
       "4  which one dissolve in water quikly sugar  salt  methane and carbon di oxide   \n",
       "\n",
       "                                                                                 question2  \\\n",
       "0                                 what is the step by step guide to invest in share market   \n",
       "1  what would happen if the indian government stole the kohinoor  koh i noor  diamond back   \n",
       "2                               how can internet speed be increased by hacking through dns   \n",
       "3                         find the remainder when  math 23  24   math  is divided by 24 23   \n",
       "4                                                   which fish would survive in salt water   \n",
       "\n",
       "   is_duplicate  freq_qid1  freq_qid2  q1_len  q2_len  q1_n_words  q2_n_words  \\\n",
       "0             0          1          1      66      57          14          12   \n",
       "1             0          4          1      51      88           8          13   \n",
       "2             0          1          1      73      59          14          10   \n",
       "3             0          1          1      50      65          11           9   \n",
       "4             0          3          1      76      39          13           7   \n",
       "\n",
       "   word_common  word_total  word_share  freq_q1+q2  freq_q1-q2  \n",
       "0         10.0        23.0        0.43           2           0  \n",
       "1          4.0        20.0        0.20           5           3  \n",
       "2          4.0        24.0        0.17           2           0  \n",
       "3          0.0        19.0        0.00           2           0  \n",
       "4          2.0        20.0        0.10           4           2  "
      ]
     },
     "execution_count": 23,
     "metadata": {},
     "output_type": "execute_result"
    }
   ],
   "source": [
    "df['question1'] = df['question1'].apply(preprocess)\n",
    "df['question2'] = df['question2'].apply(preprocess)\n",
    "df.head()"
   ]
  },
  {
   "cell_type": "code",
   "execution_count": 24,
   "id": "adb173f8",
   "metadata": {
    "execution": {
     "iopub.execute_input": "2023-08-06T00:31:30.170252Z",
     "iopub.status.busy": "2023-08-06T00:31:30.168687Z",
     "iopub.status.idle": "2023-08-06T00:31:30.246363Z",
     "shell.execute_reply": "2023-08-06T00:31:30.245060Z"
    },
    "papermill": {
     "duration": 0.100813,
     "end_time": "2023-08-06T00:31:30.250015",
     "exception": false,
     "start_time": "2023-08-06T00:31:30.149202",
     "status": "completed"
    },
    "tags": []
   },
   "outputs": [
    {
     "name": "stdout",
     "output_type": "stream",
     "text": [
      "[nltk_data] Downloading package stopwords to /usr/share/nltk_data...\n",
      "[nltk_data]   Package stopwords is already up-to-date!\n"
     ]
    },
    {
     "data": {
      "text/plain": [
       "True"
      ]
     },
     "execution_count": 24,
     "metadata": {},
     "output_type": "execute_result"
    }
   ],
   "source": [
    "import nltk\n",
    "nltk.download('stopwords')"
   ]
  },
  {
   "cell_type": "code",
   "execution_count": 25,
   "id": "1796e86a",
   "metadata": {
    "execution": {
     "iopub.execute_input": "2023-08-06T00:31:30.288515Z",
     "iopub.status.busy": "2023-08-06T00:31:30.287704Z",
     "iopub.status.idle": "2023-08-06T00:31:30.296712Z",
     "shell.execute_reply": "2023-08-06T00:31:30.295749Z"
    },
    "papermill": {
     "duration": 0.030278,
     "end_time": "2023-08-06T00:31:30.298817",
     "exception": false,
     "start_time": "2023-08-06T00:31:30.268539",
     "status": "completed"
    },
    "tags": []
   },
   "outputs": [
    {
     "name": "stdout",
     "output_type": "stream",
     "text": [
      "['i', 'me', 'my', 'myself', 'we', 'our', 'ours', 'ourselves', 'you', \"you're\", \"you've\", \"you'll\", \"you'd\", 'your', 'yours', 'yourself', 'yourselves', 'he', 'him', 'his', 'himself', 'she', \"she's\", 'her', 'hers', 'herself', 'it', \"it's\", 'its', 'itself', 'they', 'them', 'their', 'theirs', 'themselves', 'what', 'which', 'who', 'whom', 'this', 'that', \"that'll\", 'these', 'those', 'am', 'is', 'are', 'was', 'were', 'be', 'been', 'being', 'have', 'has', 'had', 'having', 'do', 'does', 'did', 'doing', 'a', 'an', 'the', 'and', 'but', 'if', 'or', 'because', 'as', 'until', 'while', 'of', 'at', 'by', 'for', 'with', 'about', 'against', 'between', 'into', 'through', 'during', 'before', 'after', 'above', 'below', 'to', 'from', 'up', 'down', 'in', 'out', 'on', 'off', 'over', 'under', 'again', 'further', 'then', 'once', 'here', 'there', 'when', 'where', 'why', 'how', 'all', 'any', 'both', 'each', 'few', 'more', 'most', 'other', 'some', 'such', 'no', 'nor', 'not', 'only', 'own', 'same', 'so', 'than', 'too', 'very', 's', 't', 'can', 'will', 'just', 'don', \"don't\", 'should', \"should've\", 'now', 'd', 'll', 'm', 'o', 're', 've', 'y', 'ain', 'aren', \"aren't\", 'couldn', \"couldn't\", 'didn', \"didn't\", 'doesn', \"doesn't\", 'hadn', \"hadn't\", 'hasn', \"hasn't\", 'haven', \"haven't\", 'isn', \"isn't\", 'ma', 'mightn', \"mightn't\", 'mustn', \"mustn't\", 'needn', \"needn't\", 'shan', \"shan't\", 'shouldn', \"shouldn't\", 'wasn', \"wasn't\", 'weren', \"weren't\", 'won', \"won't\", 'wouldn', \"wouldn't\"]\n"
     ]
    }
   ],
   "source": [
    "from nltk.corpus import stopwords\n",
    "stop = stopwords.words('english')\n",
    "print(stop)"
   ]
  },
  {
   "cell_type": "code",
   "execution_count": 26,
   "id": "a9a6623a",
   "metadata": {
    "execution": {
     "iopub.execute_input": "2023-08-06T00:31:30.338221Z",
     "iopub.status.busy": "2023-08-06T00:31:30.336837Z",
     "iopub.status.idle": "2023-08-06T00:31:30.349648Z",
     "shell.execute_reply": "2023-08-06T00:31:30.348657Z"
    },
    "papermill": {
     "duration": 0.03441,
     "end_time": "2023-08-06T00:31:30.351815",
     "exception": false,
     "start_time": "2023-08-06T00:31:30.317405",
     "status": "completed"
    },
    "tags": []
   },
   "outputs": [],
   "source": [
    "from nltk.corpus import stopwords\n",
    "\n",
    "def fetch_token_features(row):\n",
    "    q1 = row['question1']\n",
    "    q2 = row['question2']\n",
    "    \n",
    "    SAFE_DIV = 0.0001\n",
    "    \n",
    "    STOP_WORDS = stopwords.words('english')\n",
    "    \n",
    "    token_features = [0.0]*8\n",
    "    \n",
    "    # extracting tokens\n",
    "    q1_tokens = q1.split(\" \")\n",
    "    q2_tokens = q2.split(\" \")\n",
    "    \n",
    "    if len(q1_tokens)==0 or len(q2_tokens)==0:\n",
    "        return token_features\n",
    "    \n",
    "    #extracting stop words\n",
    "    q1_stops = set([word for word in q1_tokens if word in STOP_WORDS])\n",
    "    q2_stops = set([word for word in q2_tokens if word in STOP_WORDS])\n",
    "    \n",
    "    #extracting words\n",
    "    q1_words = set([word for word in q1_tokens if word not in STOP_WORDS])\n",
    "    q2_words = set([word for word in q2_tokens if word not in STOP_WORDS])\n",
    "    \n",
    "    common_word_count = len(q1_words.intersection(q2_words))\n",
    "    common_token_count = len(set(q1_tokens).intersection(set(q2_tokens)))\n",
    "    common_stop_count = len(q1_stops.intersection(q2_stops))\n",
    "    \n",
    "    token_features[0] = common_word_count/(min(len(q1_words) , len(q2_words)) + SAFE_DIV)\n",
    "    token_features[1] = common_word_count/(max(len(q1_words) , len(q2_words)) + SAFE_DIV)\n",
    "    \n",
    "    token_features[2] = common_stop_count/(min(len(q1_stops) , len(q2_stops)) + SAFE_DIV)\n",
    "    token_features[3] = common_stop_count/(max(len(q1_stops) , len(q2_stops)) + SAFE_DIV)\n",
    "    \n",
    "    token_features[4] = common_token_count/(min(len(q1_tokens) , len(q2_tokens)) + SAFE_DIV)\n",
    "    token_features[5] = common_token_count/(max(len(q1_tokens) , len(q2_tokens)) + SAFE_DIV)\n",
    "    \n",
    "    token_features[6] = int(q1_tokens[-1] == q2_tokens[-1])\n",
    "    token_features[7] = int(q1_tokens[0] == q2_tokens[0])\n",
    "    \n",
    "    return token_features"
   ]
  },
  {
   "cell_type": "code",
   "execution_count": 27,
   "id": "5be42309",
   "metadata": {
    "execution": {
     "iopub.execute_input": "2023-08-06T00:31:30.389444Z",
     "iopub.status.busy": "2023-08-06T00:31:30.389186Z",
     "iopub.status.idle": "2023-08-06T00:33:17.110971Z",
     "shell.execute_reply": "2023-08-06T00:33:17.109929Z"
    },
    "papermill": {
     "duration": 106.743446,
     "end_time": "2023-08-06T00:33:17.113481",
     "exception": false,
     "start_time": "2023-08-06T00:31:30.370035",
     "status": "completed"
    },
    "tags": []
   },
   "outputs": [],
   "source": [
    "token_features = df.apply(fetch_token_features , axis=1)\n",
    "\n",
    "df['cwc_min'] = list(map(lambda x : x[0], token_features))\n",
    "df['cwc_max'] = list(map(lambda x : x[1], token_features))\n",
    "df['csc_min'] = list(map(lambda x : x[2], token_features))\n",
    "df['csc_max'] = list(map(lambda x : x[3], token_features))\n",
    "df['ctc_min'] = list(map(lambda x : x[4], token_features))\n",
    "df['ctc_max'] = list(map(lambda x : x[5], token_features))\n",
    "df['last_word_eq'] = list(map(lambda x : x[6], token_features))\n",
    "df['first_word_eq'] = list(map(lambda x : x[7], token_features))"
   ]
  },
  {
   "cell_type": "code",
   "execution_count": 28,
   "id": "ada159c9",
   "metadata": {
    "execution": {
     "iopub.execute_input": "2023-08-06T00:33:17.165563Z",
     "iopub.status.busy": "2023-08-06T00:33:17.165168Z",
     "iopub.status.idle": "2023-08-06T00:33:17.218452Z",
     "shell.execute_reply": "2023-08-06T00:33:17.217457Z"
    },
    "papermill": {
     "duration": 0.088858,
     "end_time": "2023-08-06T00:33:17.221582",
     "exception": false,
     "start_time": "2023-08-06T00:33:17.132724",
     "status": "completed"
    },
    "tags": []
   },
   "outputs": [
    {
     "data": {
      "text/html": [
       "<div>\n",
       "<style scoped>\n",
       "    .dataframe tbody tr th:only-of-type {\n",
       "        vertical-align: middle;\n",
       "    }\n",
       "\n",
       "    .dataframe tbody tr th {\n",
       "        vertical-align: top;\n",
       "    }\n",
       "\n",
       "    .dataframe thead th {\n",
       "        text-align: right;\n",
       "    }\n",
       "</style>\n",
       "<table border=\"1\" class=\"dataframe\">\n",
       "  <thead>\n",
       "    <tr style=\"text-align: right;\">\n",
       "      <th></th>\n",
       "      <th>id</th>\n",
       "      <th>qid1</th>\n",
       "      <th>qid2</th>\n",
       "      <th>question1</th>\n",
       "      <th>question2</th>\n",
       "      <th>is_duplicate</th>\n",
       "      <th>freq_qid1</th>\n",
       "      <th>freq_qid2</th>\n",
       "      <th>q1_len</th>\n",
       "      <th>q2_len</th>\n",
       "      <th>...</th>\n",
       "      <th>freq_q1+q2</th>\n",
       "      <th>freq_q1-q2</th>\n",
       "      <th>cwc_min</th>\n",
       "      <th>cwc_max</th>\n",
       "      <th>csc_min</th>\n",
       "      <th>csc_max</th>\n",
       "      <th>ctc_min</th>\n",
       "      <th>ctc_max</th>\n",
       "      <th>last_word_eq</th>\n",
       "      <th>first_word_eq</th>\n",
       "    </tr>\n",
       "  </thead>\n",
       "  <tbody>\n",
       "    <tr>\n",
       "      <th>0</th>\n",
       "      <td>0</td>\n",
       "      <td>1</td>\n",
       "      <td>2</td>\n",
       "      <td>what is the step by step guide to invest in share market in india</td>\n",
       "      <td>what is the step by step guide to invest in share market</td>\n",
       "      <td>0</td>\n",
       "      <td>1</td>\n",
       "      <td>1</td>\n",
       "      <td>66</td>\n",
       "      <td>57</td>\n",
       "      <td>...</td>\n",
       "      <td>2</td>\n",
       "      <td>0</td>\n",
       "      <td>0.999980</td>\n",
       "      <td>0.833319</td>\n",
       "      <td>0.999983</td>\n",
       "      <td>0.999983</td>\n",
       "      <td>0.916659</td>\n",
       "      <td>0.785709</td>\n",
       "      <td>0</td>\n",
       "      <td>1</td>\n",
       "    </tr>\n",
       "    <tr>\n",
       "      <th>1</th>\n",
       "      <td>1</td>\n",
       "      <td>3</td>\n",
       "      <td>4</td>\n",
       "      <td>what is the story of kohinoor  koh i noor  diamond</td>\n",
       "      <td>what would happen if the indian government stole the kohinoor  koh i noor  diamond back</td>\n",
       "      <td>0</td>\n",
       "      <td>4</td>\n",
       "      <td>1</td>\n",
       "      <td>51</td>\n",
       "      <td>88</td>\n",
       "      <td>...</td>\n",
       "      <td>5</td>\n",
       "      <td>3</td>\n",
       "      <td>0.833319</td>\n",
       "      <td>0.454541</td>\n",
       "      <td>0.749981</td>\n",
       "      <td>0.599988</td>\n",
       "      <td>0.666661</td>\n",
       "      <td>0.470585</td>\n",
       "      <td>0</td>\n",
       "      <td>1</td>\n",
       "    </tr>\n",
       "    <tr>\n",
       "      <th>2</th>\n",
       "      <td>2</td>\n",
       "      <td>5</td>\n",
       "      <td>6</td>\n",
       "      <td>how can i increase the speed of my internet connection while using a vpn</td>\n",
       "      <td>how can internet speed be increased by hacking through dns</td>\n",
       "      <td>0</td>\n",
       "      <td>1</td>\n",
       "      <td>1</td>\n",
       "      <td>73</td>\n",
       "      <td>59</td>\n",
       "      <td>...</td>\n",
       "      <td>2</td>\n",
       "      <td>0</td>\n",
       "      <td>0.399992</td>\n",
       "      <td>0.333328</td>\n",
       "      <td>0.399992</td>\n",
       "      <td>0.249997</td>\n",
       "      <td>0.399996</td>\n",
       "      <td>0.285712</td>\n",
       "      <td>0</td>\n",
       "      <td>1</td>\n",
       "    </tr>\n",
       "    <tr>\n",
       "      <th>3</th>\n",
       "      <td>3</td>\n",
       "      <td>7</td>\n",
       "      <td>8</td>\n",
       "      <td>why am i mentally very lonely  how can i solve it</td>\n",
       "      <td>find the remainder when  math 23  24   math  is divided by 24 23</td>\n",
       "      <td>0</td>\n",
       "      <td>1</td>\n",
       "      <td>1</td>\n",
       "      <td>50</td>\n",
       "      <td>65</td>\n",
       "      <td>...</td>\n",
       "      <td>2</td>\n",
       "      <td>0</td>\n",
       "      <td>0.249994</td>\n",
       "      <td>0.142855</td>\n",
       "      <td>0.000000</td>\n",
       "      <td>0.000000</td>\n",
       "      <td>0.083333</td>\n",
       "      <td>0.055555</td>\n",
       "      <td>0</td>\n",
       "      <td>0</td>\n",
       "    </tr>\n",
       "    <tr>\n",
       "      <th>4</th>\n",
       "      <td>4</td>\n",
       "      <td>9</td>\n",
       "      <td>10</td>\n",
       "      <td>which one dissolve in water quikly sugar  salt  methane and carbon di oxide</td>\n",
       "      <td>which fish would survive in salt water</td>\n",
       "      <td>0</td>\n",
       "      <td>3</td>\n",
       "      <td>1</td>\n",
       "      <td>76</td>\n",
       "      <td>39</td>\n",
       "      <td>...</td>\n",
       "      <td>4</td>\n",
       "      <td>2</td>\n",
       "      <td>0.399992</td>\n",
       "      <td>0.181817</td>\n",
       "      <td>0.999950</td>\n",
       "      <td>0.666644</td>\n",
       "      <td>0.571420</td>\n",
       "      <td>0.266665</td>\n",
       "      <td>0</td>\n",
       "      <td>1</td>\n",
       "    </tr>\n",
       "  </tbody>\n",
       "</table>\n",
       "<p>5 rows × 25 columns</p>\n",
       "</div>"
      ],
      "text/plain": [
       "   id  qid1  qid2  \\\n",
       "0   0     1     2   \n",
       "1   1     3     4   \n",
       "2   2     5     6   \n",
       "3   3     7     8   \n",
       "4   4     9    10   \n",
       "\n",
       "                                                                     question1  \\\n",
       "0            what is the step by step guide to invest in share market in india   \n",
       "1                           what is the story of kohinoor  koh i noor  diamond   \n",
       "2     how can i increase the speed of my internet connection while using a vpn   \n",
       "3                            why am i mentally very lonely  how can i solve it   \n",
       "4  which one dissolve in water quikly sugar  salt  methane and carbon di oxide   \n",
       "\n",
       "                                                                                 question2  \\\n",
       "0                                 what is the step by step guide to invest in share market   \n",
       "1  what would happen if the indian government stole the kohinoor  koh i noor  diamond back   \n",
       "2                               how can internet speed be increased by hacking through dns   \n",
       "3                         find the remainder when  math 23  24   math  is divided by 24 23   \n",
       "4                                                   which fish would survive in salt water   \n",
       "\n",
       "   is_duplicate  freq_qid1  freq_qid2  q1_len  q2_len  ...  freq_q1+q2  \\\n",
       "0             0          1          1      66      57  ...           2   \n",
       "1             0          4          1      51      88  ...           5   \n",
       "2             0          1          1      73      59  ...           2   \n",
       "3             0          1          1      50      65  ...           2   \n",
       "4             0          3          1      76      39  ...           4   \n",
       "\n",
       "   freq_q1-q2   cwc_min   cwc_max   csc_min   csc_max   ctc_min   ctc_max  \\\n",
       "0           0  0.999980  0.833319  0.999983  0.999983  0.916659  0.785709   \n",
       "1           3  0.833319  0.454541  0.749981  0.599988  0.666661  0.470585   \n",
       "2           0  0.399992  0.333328  0.399992  0.249997  0.399996  0.285712   \n",
       "3           0  0.249994  0.142855  0.000000  0.000000  0.083333  0.055555   \n",
       "4           2  0.399992  0.181817  0.999950  0.666644  0.571420  0.266665   \n",
       "\n",
       "   last_word_eq  first_word_eq  \n",
       "0             0              1  \n",
       "1             0              1  \n",
       "2             0              1  \n",
       "3             0              0  \n",
       "4             0              1  \n",
       "\n",
       "[5 rows x 25 columns]"
      ]
     },
     "execution_count": 28,
     "metadata": {},
     "output_type": "execute_result"
    }
   ],
   "source": [
    "df.head()"
   ]
  },
  {
   "cell_type": "code",
   "execution_count": 29,
   "id": "c245aca1",
   "metadata": {
    "execution": {
     "iopub.execute_input": "2023-08-06T00:33:17.276926Z",
     "iopub.status.busy": "2023-08-06T00:33:17.275400Z",
     "iopub.status.idle": "2023-08-06T00:33:32.441365Z",
     "shell.execute_reply": "2023-08-06T00:33:32.440169Z"
    },
    "papermill": {
     "duration": 15.189181,
     "end_time": "2023-08-06T00:33:32.444673",
     "exception": false,
     "start_time": "2023-08-06T00:33:17.255492",
     "status": "completed"
    },
    "tags": []
   },
   "outputs": [
    {
     "name": "stdout",
     "output_type": "stream",
     "text": [
      "Collecting distance\r\n",
      "  Downloading Distance-0.1.3.tar.gz (180 kB)\r\n",
      "\u001b[2K     \u001b[90m━━━━━━━━━━━━━━━━━━━━━━━━━━━━━━━━━━━━━━━\u001b[0m \u001b[32m180.3/180.3 kB\u001b[0m \u001b[31m7.2 MB/s\u001b[0m eta \u001b[36m0:00:00\u001b[0m\r\n",
      "\u001b[?25h  Preparing metadata (setup.py) ... \u001b[?25l-\b \b\\\b \b|\b \bdone\r\n",
      "\u001b[?25hBuilding wheels for collected packages: distance\r\n",
      "  Building wheel for distance (setup.py) ... \u001b[?25l-\b \b\\\b \b|\b \b/\b \bdone\r\n",
      "\u001b[?25h  Created wheel for distance: filename=Distance-0.1.3-py3-none-any.whl size=16275 sha256=89711a27b86455f4e5fb75c8aca4cb63f0d978188d93b4dca1e69e80da99724c\r\n",
      "  Stored in directory: /root/.cache/pip/wheels/e8/bb/de/f71bf63559ea9a921059a5405806f7ff6ed612a9231c4a9309\r\n",
      "Successfully built distance\r\n",
      "Installing collected packages: distance\r\n",
      "Successfully installed distance-0.1.3\r\n"
     ]
    }
   ],
   "source": [
    "!pip install distance"
   ]
  },
  {
   "cell_type": "code",
   "execution_count": 30,
   "id": "0a01029d",
   "metadata": {
    "execution": {
     "iopub.execute_input": "2023-08-06T00:33:32.508066Z",
     "iopub.status.busy": "2023-08-06T00:33:32.507679Z",
     "iopub.status.idle": "2023-08-06T00:33:32.527194Z",
     "shell.execute_reply": "2023-08-06T00:33:32.526369Z"
    },
    "papermill": {
     "duration": 0.053507,
     "end_time": "2023-08-06T00:33:32.529678",
     "exception": false,
     "start_time": "2023-08-06T00:33:32.476171",
     "status": "completed"
    },
    "tags": []
   },
   "outputs": [],
   "source": [
    "import distance\n",
    "def fetch_length_features(row):\n",
    "    q1 = row['question1']\n",
    "    q2 = row['question2']\n",
    "    \n",
    "    length_features = [0.0]*3\n",
    "    \n",
    "    # extracting tokens\n",
    "    q1_tokens = q1.split(\" \")\n",
    "    q2_tokens = q2.split(\" \")\n",
    "    \n",
    "    if len(q1_tokens)==0 or len(q2_tokens)==0:\n",
    "        return length_features\n",
    "    \n",
    "    length_features[0] = abs(len(q1_tokens) - len(q2_tokens))\n",
    "    \n",
    "    length_features[1] = (len(q1_tokens) + len(q2_tokens))/2\n",
    "    \n",
    "    strs = list(distance.lcsubstrings(q1,q2))\n",
    "    if len(strs)>0:\n",
    "        length_features[2] = len(strs[0]) / min(len(q1_tokens), len(q2_tokens))\n",
    "    else:\n",
    "        length_features[2] = 0.0\n",
    "    \n",
    "    return length_features"
   ]
  },
  {
   "cell_type": "code",
   "execution_count": 31,
   "id": "1800800b",
   "metadata": {
    "execution": {
     "iopub.execute_input": "2023-08-06T00:33:32.590618Z",
     "iopub.status.busy": "2023-08-06T00:33:32.590294Z",
     "iopub.status.idle": "2023-08-06T00:45:12.069384Z",
     "shell.execute_reply": "2023-08-06T00:45:12.068384Z"
    },
    "papermill": {
     "duration": 699.512227,
     "end_time": "2023-08-06T00:45:12.071956",
     "exception": false,
     "start_time": "2023-08-06T00:33:32.559729",
     "status": "completed"
    },
    "tags": []
   },
   "outputs": [],
   "source": [
    "length_features = df.apply(fetch_length_features, axis=1)\n",
    "\n",
    "df['abs_len_diff'] = list(map(lambda x: x[0], length_features))\n",
    "df['mean_len'] = list(map(lambda x: x[1], length_features))\n",
    "df['longest_substr_ratio'] = list(map(lambda x: x[2], length_features))"
   ]
  },
  {
   "cell_type": "code",
   "execution_count": 32,
   "id": "736a9ce7",
   "metadata": {
    "execution": {
     "iopub.execute_input": "2023-08-06T00:45:12.115264Z",
     "iopub.status.busy": "2023-08-06T00:45:12.114415Z",
     "iopub.status.idle": "2023-08-06T00:45:12.137383Z",
     "shell.execute_reply": "2023-08-06T00:45:12.136340Z"
    },
    "papermill": {
     "duration": 0.046985,
     "end_time": "2023-08-06T00:45:12.139940",
     "exception": false,
     "start_time": "2023-08-06T00:45:12.092955",
     "status": "completed"
    },
    "tags": []
   },
   "outputs": [
    {
     "data": {
      "text/html": [
       "<div>\n",
       "<style scoped>\n",
       "    .dataframe tbody tr th:only-of-type {\n",
       "        vertical-align: middle;\n",
       "    }\n",
       "\n",
       "    .dataframe tbody tr th {\n",
       "        vertical-align: top;\n",
       "    }\n",
       "\n",
       "    .dataframe thead th {\n",
       "        text-align: right;\n",
       "    }\n",
       "</style>\n",
       "<table border=\"1\" class=\"dataframe\">\n",
       "  <thead>\n",
       "    <tr style=\"text-align: right;\">\n",
       "      <th></th>\n",
       "      <th>id</th>\n",
       "      <th>qid1</th>\n",
       "      <th>qid2</th>\n",
       "      <th>question1</th>\n",
       "      <th>question2</th>\n",
       "      <th>is_duplicate</th>\n",
       "      <th>freq_qid1</th>\n",
       "      <th>freq_qid2</th>\n",
       "      <th>q1_len</th>\n",
       "      <th>q2_len</th>\n",
       "      <th>...</th>\n",
       "      <th>cwc_max</th>\n",
       "      <th>csc_min</th>\n",
       "      <th>csc_max</th>\n",
       "      <th>ctc_min</th>\n",
       "      <th>ctc_max</th>\n",
       "      <th>last_word_eq</th>\n",
       "      <th>first_word_eq</th>\n",
       "      <th>abs_len_diff</th>\n",
       "      <th>mean_len</th>\n",
       "      <th>longest_substr_ratio</th>\n",
       "    </tr>\n",
       "  </thead>\n",
       "  <tbody>\n",
       "    <tr>\n",
       "      <th>0</th>\n",
       "      <td>0</td>\n",
       "      <td>1</td>\n",
       "      <td>2</td>\n",
       "      <td>what is the step by step guide to invest in share market in india</td>\n",
       "      <td>what is the step by step guide to invest in share market</td>\n",
       "      <td>0</td>\n",
       "      <td>1</td>\n",
       "      <td>1</td>\n",
       "      <td>66</td>\n",
       "      <td>57</td>\n",
       "      <td>...</td>\n",
       "      <td>0.833319</td>\n",
       "      <td>0.999983</td>\n",
       "      <td>0.999983</td>\n",
       "      <td>0.916659</td>\n",
       "      <td>0.785709</td>\n",
       "      <td>0</td>\n",
       "      <td>1</td>\n",
       "      <td>2</td>\n",
       "      <td>13.0</td>\n",
       "      <td>4.666667</td>\n",
       "    </tr>\n",
       "    <tr>\n",
       "      <th>1</th>\n",
       "      <td>1</td>\n",
       "      <td>3</td>\n",
       "      <td>4</td>\n",
       "      <td>what is the story of kohinoor  koh i noor  diamond</td>\n",
       "      <td>what would happen if the indian government stole the kohinoor  koh i noor  diamond back</td>\n",
       "      <td>0</td>\n",
       "      <td>4</td>\n",
       "      <td>1</td>\n",
       "      <td>51</td>\n",
       "      <td>88</td>\n",
       "      <td>...</td>\n",
       "      <td>0.454541</td>\n",
       "      <td>0.749981</td>\n",
       "      <td>0.599988</td>\n",
       "      <td>0.666661</td>\n",
       "      <td>0.470585</td>\n",
       "      <td>0</td>\n",
       "      <td>1</td>\n",
       "      <td>5</td>\n",
       "      <td>14.5</td>\n",
       "      <td>2.500000</td>\n",
       "    </tr>\n",
       "    <tr>\n",
       "      <th>2</th>\n",
       "      <td>2</td>\n",
       "      <td>5</td>\n",
       "      <td>6</td>\n",
       "      <td>how can i increase the speed of my internet connection while using a vpn</td>\n",
       "      <td>how can internet speed be increased by hacking through dns</td>\n",
       "      <td>0</td>\n",
       "      <td>1</td>\n",
       "      <td>1</td>\n",
       "      <td>73</td>\n",
       "      <td>59</td>\n",
       "      <td>...</td>\n",
       "      <td>0.333328</td>\n",
       "      <td>0.399992</td>\n",
       "      <td>0.249997</td>\n",
       "      <td>0.399996</td>\n",
       "      <td>0.285712</td>\n",
       "      <td>0</td>\n",
       "      <td>1</td>\n",
       "      <td>4</td>\n",
       "      <td>12.0</td>\n",
       "      <td>1.000000</td>\n",
       "    </tr>\n",
       "    <tr>\n",
       "      <th>3</th>\n",
       "      <td>3</td>\n",
       "      <td>7</td>\n",
       "      <td>8</td>\n",
       "      <td>why am i mentally very lonely  how can i solve it</td>\n",
       "      <td>find the remainder when  math 23  24   math  is divided by 24 23</td>\n",
       "      <td>0</td>\n",
       "      <td>1</td>\n",
       "      <td>1</td>\n",
       "      <td>50</td>\n",
       "      <td>65</td>\n",
       "      <td>...</td>\n",
       "      <td>0.142855</td>\n",
       "      <td>0.000000</td>\n",
       "      <td>0.000000</td>\n",
       "      <td>0.083333</td>\n",
       "      <td>0.055555</td>\n",
       "      <td>0</td>\n",
       "      <td>0</td>\n",
       "      <td>6</td>\n",
       "      <td>15.0</td>\n",
       "      <td>0.166667</td>\n",
       "    </tr>\n",
       "    <tr>\n",
       "      <th>4</th>\n",
       "      <td>4</td>\n",
       "      <td>9</td>\n",
       "      <td>10</td>\n",
       "      <td>which one dissolve in water quikly sugar  salt  methane and carbon di oxide</td>\n",
       "      <td>which fish would survive in salt water</td>\n",
       "      <td>0</td>\n",
       "      <td>3</td>\n",
       "      <td>1</td>\n",
       "      <td>76</td>\n",
       "      <td>39</td>\n",
       "      <td>...</td>\n",
       "      <td>0.181817</td>\n",
       "      <td>0.999950</td>\n",
       "      <td>0.666644</td>\n",
       "      <td>0.571420</td>\n",
       "      <td>0.266665</td>\n",
       "      <td>0</td>\n",
       "      <td>1</td>\n",
       "      <td>8</td>\n",
       "      <td>11.0</td>\n",
       "      <td>0.857143</td>\n",
       "    </tr>\n",
       "  </tbody>\n",
       "</table>\n",
       "<p>5 rows × 28 columns</p>\n",
       "</div>"
      ],
      "text/plain": [
       "   id  qid1  qid2  \\\n",
       "0   0     1     2   \n",
       "1   1     3     4   \n",
       "2   2     5     6   \n",
       "3   3     7     8   \n",
       "4   4     9    10   \n",
       "\n",
       "                                                                     question1  \\\n",
       "0            what is the step by step guide to invest in share market in india   \n",
       "1                           what is the story of kohinoor  koh i noor  diamond   \n",
       "2     how can i increase the speed of my internet connection while using a vpn   \n",
       "3                            why am i mentally very lonely  how can i solve it   \n",
       "4  which one dissolve in water quikly sugar  salt  methane and carbon di oxide   \n",
       "\n",
       "                                                                                 question2  \\\n",
       "0                                 what is the step by step guide to invest in share market   \n",
       "1  what would happen if the indian government stole the kohinoor  koh i noor  diamond back   \n",
       "2                               how can internet speed be increased by hacking through dns   \n",
       "3                         find the remainder when  math 23  24   math  is divided by 24 23   \n",
       "4                                                   which fish would survive in salt water   \n",
       "\n",
       "   is_duplicate  freq_qid1  freq_qid2  q1_len  q2_len  ...   cwc_max  \\\n",
       "0             0          1          1      66      57  ...  0.833319   \n",
       "1             0          4          1      51      88  ...  0.454541   \n",
       "2             0          1          1      73      59  ...  0.333328   \n",
       "3             0          1          1      50      65  ...  0.142855   \n",
       "4             0          3          1      76      39  ...  0.181817   \n",
       "\n",
       "    csc_min   csc_max   ctc_min   ctc_max  last_word_eq  first_word_eq  \\\n",
       "0  0.999983  0.999983  0.916659  0.785709             0              1   \n",
       "1  0.749981  0.599988  0.666661  0.470585             0              1   \n",
       "2  0.399992  0.249997  0.399996  0.285712             0              1   \n",
       "3  0.000000  0.000000  0.083333  0.055555             0              0   \n",
       "4  0.999950  0.666644  0.571420  0.266665             0              1   \n",
       "\n",
       "   abs_len_diff  mean_len  longest_substr_ratio  \n",
       "0             2      13.0              4.666667  \n",
       "1             5      14.5              2.500000  \n",
       "2             4      12.0              1.000000  \n",
       "3             6      15.0              0.166667  \n",
       "4             8      11.0              0.857143  \n",
       "\n",
       "[5 rows x 28 columns]"
      ]
     },
     "execution_count": 32,
     "metadata": {},
     "output_type": "execute_result"
    }
   ],
   "source": [
    "df.head()"
   ]
  },
  {
   "cell_type": "code",
   "execution_count": 33,
   "id": "c255818c",
   "metadata": {
    "execution": {
     "iopub.execute_input": "2023-08-06T00:45:12.182978Z",
     "iopub.status.busy": "2023-08-06T00:45:12.182712Z",
     "iopub.status.idle": "2023-08-06T00:45:23.223242Z",
     "shell.execute_reply": "2023-08-06T00:45:23.222019Z"
    },
    "papermill": {
     "duration": 11.064372,
     "end_time": "2023-08-06T00:45:23.225725",
     "exception": false,
     "start_time": "2023-08-06T00:45:12.161353",
     "status": "completed"
    },
    "tags": []
   },
   "outputs": [
    {
     "name": "stdout",
     "output_type": "stream",
     "text": [
      "Requirement already satisfied: fuzzywuzzy in /opt/conda/lib/python3.10/site-packages (0.18.0)\r\n"
     ]
    }
   ],
   "source": [
    "!pip install fuzzywuzzy"
   ]
  },
  {
   "cell_type": "code",
   "execution_count": 34,
   "id": "8514beaa",
   "metadata": {
    "execution": {
     "iopub.execute_input": "2023-08-06T00:45:23.269445Z",
     "iopub.status.busy": "2023-08-06T00:45:23.269093Z",
     "iopub.status.idle": "2023-08-06T00:45:23.379780Z",
     "shell.execute_reply": "2023-08-06T00:45:23.378866Z"
    },
    "papermill": {
     "duration": 0.134802,
     "end_time": "2023-08-06T00:45:23.382021",
     "exception": false,
     "start_time": "2023-08-06T00:45:23.247219",
     "status": "completed"
    },
    "tags": []
   },
   "outputs": [],
   "source": [
    "from fuzzywuzzy import fuzz\n",
    "\n",
    "def fetch_fuzzy_features(row):\n",
    "    q1 = row['question1']\n",
    "    q2 = row['question2']\n",
    "    \n",
    "    fuzzy_features = [0.0]*4\n",
    "    \n",
    "    fuzzy_features[0] = fuzz.QRatio(q1, q2)\n",
    "    fuzzy_features[1] = fuzz.partial_ratio(q1, q2)\n",
    "    fuzzy_features[2] = fuzz.token_sort_ratio(q1, q2)\n",
    "    fuzzy_features[3] = fuzz.token_set_ratio(q1, q2)\n",
    "    \n",
    "    return fuzzy_features"
   ]
  },
  {
   "cell_type": "code",
   "execution_count": 35,
   "id": "d274e9e1",
   "metadata": {
    "execution": {
     "iopub.execute_input": "2023-08-06T00:45:23.430436Z",
     "iopub.status.busy": "2023-08-06T00:45:23.429606Z",
     "iopub.status.idle": "2023-08-06T00:46:35.237491Z",
     "shell.execute_reply": "2023-08-06T00:46:35.236493Z"
    },
    "papermill": {
     "duration": 71.832153,
     "end_time": "2023-08-06T00:46:35.239993",
     "exception": false,
     "start_time": "2023-08-06T00:45:23.407840",
     "status": "completed"
    },
    "tags": []
   },
   "outputs": [],
   "source": [
    "fuzzy_features = df.apply(fetch_fuzzy_features, axis=1)\n",
    "\n",
    "df['fuzz_ratio'] = list(map(lambda x: x[0], fuzzy_features))\n",
    "df['fuzz_partial_ratio'] = list(map(lambda x: x[1], fuzzy_features))\n",
    "df['token_sort_ratio'] = list(map(lambda x: x[2], fuzzy_features))\n",
    "df['token_set_ratio'] = list(map(lambda x: x[3], fuzzy_features))"
   ]
  },
  {
   "cell_type": "code",
   "execution_count": 36,
   "id": "40791377",
   "metadata": {
    "execution": {
     "iopub.execute_input": "2023-08-06T00:46:35.283919Z",
     "iopub.status.busy": "2023-08-06T00:46:35.282976Z",
     "iopub.status.idle": "2023-08-06T00:46:35.304919Z",
     "shell.execute_reply": "2023-08-06T00:46:35.303959Z"
    },
    "papermill": {
     "duration": 0.045473,
     "end_time": "2023-08-06T00:46:35.307041",
     "exception": false,
     "start_time": "2023-08-06T00:46:35.261568",
     "status": "completed"
    },
    "tags": []
   },
   "outputs": [
    {
     "data": {
      "text/html": [
       "<div>\n",
       "<style scoped>\n",
       "    .dataframe tbody tr th:only-of-type {\n",
       "        vertical-align: middle;\n",
       "    }\n",
       "\n",
       "    .dataframe tbody tr th {\n",
       "        vertical-align: top;\n",
       "    }\n",
       "\n",
       "    .dataframe thead th {\n",
       "        text-align: right;\n",
       "    }\n",
       "</style>\n",
       "<table border=\"1\" class=\"dataframe\">\n",
       "  <thead>\n",
       "    <tr style=\"text-align: right;\">\n",
       "      <th></th>\n",
       "      <th>id</th>\n",
       "      <th>qid1</th>\n",
       "      <th>qid2</th>\n",
       "      <th>question1</th>\n",
       "      <th>question2</th>\n",
       "      <th>is_duplicate</th>\n",
       "      <th>freq_qid1</th>\n",
       "      <th>freq_qid2</th>\n",
       "      <th>q1_len</th>\n",
       "      <th>q2_len</th>\n",
       "      <th>...</th>\n",
       "      <th>ctc_max</th>\n",
       "      <th>last_word_eq</th>\n",
       "      <th>first_word_eq</th>\n",
       "      <th>abs_len_diff</th>\n",
       "      <th>mean_len</th>\n",
       "      <th>longest_substr_ratio</th>\n",
       "      <th>fuzz_ratio</th>\n",
       "      <th>fuzz_partial_ratio</th>\n",
       "      <th>token_sort_ratio</th>\n",
       "      <th>token_set_ratio</th>\n",
       "    </tr>\n",
       "  </thead>\n",
       "  <tbody>\n",
       "    <tr>\n",
       "      <th>0</th>\n",
       "      <td>0</td>\n",
       "      <td>1</td>\n",
       "      <td>2</td>\n",
       "      <td>what is the step by step guide to invest in share market in india</td>\n",
       "      <td>what is the step by step guide to invest in share market</td>\n",
       "      <td>0</td>\n",
       "      <td>1</td>\n",
       "      <td>1</td>\n",
       "      <td>66</td>\n",
       "      <td>57</td>\n",
       "      <td>...</td>\n",
       "      <td>0.785709</td>\n",
       "      <td>0</td>\n",
       "      <td>1</td>\n",
       "      <td>2</td>\n",
       "      <td>13.0</td>\n",
       "      <td>4.666667</td>\n",
       "      <td>93</td>\n",
       "      <td>100</td>\n",
       "      <td>93</td>\n",
       "      <td>100</td>\n",
       "    </tr>\n",
       "    <tr>\n",
       "      <th>1</th>\n",
       "      <td>1</td>\n",
       "      <td>3</td>\n",
       "      <td>4</td>\n",
       "      <td>what is the story of kohinoor  koh i noor  diamond</td>\n",
       "      <td>what would happen if the indian government stole the kohinoor  koh i noor  diamond back</td>\n",
       "      <td>0</td>\n",
       "      <td>4</td>\n",
       "      <td>1</td>\n",
       "      <td>51</td>\n",
       "      <td>88</td>\n",
       "      <td>...</td>\n",
       "      <td>0.470585</td>\n",
       "      <td>0</td>\n",
       "      <td>1</td>\n",
       "      <td>5</td>\n",
       "      <td>14.5</td>\n",
       "      <td>2.500000</td>\n",
       "      <td>66</td>\n",
       "      <td>74</td>\n",
       "      <td>63</td>\n",
       "      <td>86</td>\n",
       "    </tr>\n",
       "    <tr>\n",
       "      <th>2</th>\n",
       "      <td>2</td>\n",
       "      <td>5</td>\n",
       "      <td>6</td>\n",
       "      <td>how can i increase the speed of my internet connection while using a vpn</td>\n",
       "      <td>how can internet speed be increased by hacking through dns</td>\n",
       "      <td>0</td>\n",
       "      <td>1</td>\n",
       "      <td>1</td>\n",
       "      <td>73</td>\n",
       "      <td>59</td>\n",
       "      <td>...</td>\n",
       "      <td>0.285712</td>\n",
       "      <td>0</td>\n",
       "      <td>1</td>\n",
       "      <td>4</td>\n",
       "      <td>12.0</td>\n",
       "      <td>1.000000</td>\n",
       "      <td>54</td>\n",
       "      <td>53</td>\n",
       "      <td>66</td>\n",
       "      <td>66</td>\n",
       "    </tr>\n",
       "    <tr>\n",
       "      <th>3</th>\n",
       "      <td>3</td>\n",
       "      <td>7</td>\n",
       "      <td>8</td>\n",
       "      <td>why am i mentally very lonely  how can i solve it</td>\n",
       "      <td>find the remainder when  math 23  24   math  is divided by 24 23</td>\n",
       "      <td>0</td>\n",
       "      <td>1</td>\n",
       "      <td>1</td>\n",
       "      <td>50</td>\n",
       "      <td>65</td>\n",
       "      <td>...</td>\n",
       "      <td>0.055555</td>\n",
       "      <td>0</td>\n",
       "      <td>0</td>\n",
       "      <td>6</td>\n",
       "      <td>15.0</td>\n",
       "      <td>0.166667</td>\n",
       "      <td>35</td>\n",
       "      <td>39</td>\n",
       "      <td>36</td>\n",
       "      <td>36</td>\n",
       "    </tr>\n",
       "    <tr>\n",
       "      <th>4</th>\n",
       "      <td>4</td>\n",
       "      <td>9</td>\n",
       "      <td>10</td>\n",
       "      <td>which one dissolve in water quikly sugar  salt  methane and carbon di oxide</td>\n",
       "      <td>which fish would survive in salt water</td>\n",
       "      <td>0</td>\n",
       "      <td>3</td>\n",
       "      <td>1</td>\n",
       "      <td>76</td>\n",
       "      <td>39</td>\n",
       "      <td>...</td>\n",
       "      <td>0.266665</td>\n",
       "      <td>0</td>\n",
       "      <td>1</td>\n",
       "      <td>8</td>\n",
       "      <td>11.0</td>\n",
       "      <td>0.857143</td>\n",
       "      <td>46</td>\n",
       "      <td>55</td>\n",
       "      <td>47</td>\n",
       "      <td>67</td>\n",
       "    </tr>\n",
       "  </tbody>\n",
       "</table>\n",
       "<p>5 rows × 32 columns</p>\n",
       "</div>"
      ],
      "text/plain": [
       "   id  qid1  qid2  \\\n",
       "0   0     1     2   \n",
       "1   1     3     4   \n",
       "2   2     5     6   \n",
       "3   3     7     8   \n",
       "4   4     9    10   \n",
       "\n",
       "                                                                     question1  \\\n",
       "0            what is the step by step guide to invest in share market in india   \n",
       "1                           what is the story of kohinoor  koh i noor  diamond   \n",
       "2     how can i increase the speed of my internet connection while using a vpn   \n",
       "3                            why am i mentally very lonely  how can i solve it   \n",
       "4  which one dissolve in water quikly sugar  salt  methane and carbon di oxide   \n",
       "\n",
       "                                                                                 question2  \\\n",
       "0                                 what is the step by step guide to invest in share market   \n",
       "1  what would happen if the indian government stole the kohinoor  koh i noor  diamond back   \n",
       "2                               how can internet speed be increased by hacking through dns   \n",
       "3                         find the remainder when  math 23  24   math  is divided by 24 23   \n",
       "4                                                   which fish would survive in salt water   \n",
       "\n",
       "   is_duplicate  freq_qid1  freq_qid2  q1_len  q2_len  ...   ctc_max  \\\n",
       "0             0          1          1      66      57  ...  0.785709   \n",
       "1             0          4          1      51      88  ...  0.470585   \n",
       "2             0          1          1      73      59  ...  0.285712   \n",
       "3             0          1          1      50      65  ...  0.055555   \n",
       "4             0          3          1      76      39  ...  0.266665   \n",
       "\n",
       "   last_word_eq  first_word_eq  abs_len_diff  mean_len  longest_substr_ratio  \\\n",
       "0             0              1             2      13.0              4.666667   \n",
       "1             0              1             5      14.5              2.500000   \n",
       "2             0              1             4      12.0              1.000000   \n",
       "3             0              0             6      15.0              0.166667   \n",
       "4             0              1             8      11.0              0.857143   \n",
       "\n",
       "   fuzz_ratio  fuzz_partial_ratio  token_sort_ratio  token_set_ratio  \n",
       "0          93                 100                93              100  \n",
       "1          66                  74                63               86  \n",
       "2          54                  53                66               66  \n",
       "3          35                  39                36               36  \n",
       "4          46                  55                47               67  \n",
       "\n",
       "[5 rows x 32 columns]"
      ]
     },
     "execution_count": 36,
     "metadata": {},
     "output_type": "execute_result"
    }
   ],
   "source": [
    "df.head()"
   ]
  },
  {
   "cell_type": "code",
   "execution_count": null,
   "id": "f770a974",
   "metadata": {
    "papermill": {
     "duration": 0.020675,
     "end_time": "2023-08-06T00:46:35.349254",
     "exception": false,
     "start_time": "2023-08-06T00:46:35.328579",
     "status": "completed"
    },
    "tags": []
   },
   "outputs": [],
   "source": []
  },
  {
   "cell_type": "code",
   "execution_count": null,
   "id": "70e5645a",
   "metadata": {
    "papermill": {
     "duration": 0.020376,
     "end_time": "2023-08-06T00:46:35.390345",
     "exception": false,
     "start_time": "2023-08-06T00:46:35.369969",
     "status": "completed"
    },
    "tags": []
   },
   "outputs": [],
   "source": []
  },
  {
   "cell_type": "code",
   "execution_count": null,
   "id": "130b483e",
   "metadata": {
    "papermill": {
     "duration": 0.020555,
     "end_time": "2023-08-06T00:46:35.431922",
     "exception": false,
     "start_time": "2023-08-06T00:46:35.411367",
     "status": "completed"
    },
    "tags": []
   },
   "outputs": [],
   "source": []
  },
  {
   "cell_type": "code",
   "execution_count": null,
   "id": "850ee6a5",
   "metadata": {
    "papermill": {
     "duration": 0.020514,
     "end_time": "2023-08-06T00:46:35.473576",
     "exception": false,
     "start_time": "2023-08-06T00:46:35.453062",
     "status": "completed"
    },
    "tags": []
   },
   "outputs": [],
   "source": []
  },
  {
   "cell_type": "code",
   "execution_count": null,
   "id": "c1c393db",
   "metadata": {
    "papermill": {
     "duration": 0.020803,
     "end_time": "2023-08-06T00:46:35.515534",
     "exception": false,
     "start_time": "2023-08-06T00:46:35.494731",
     "status": "completed"
    },
    "tags": []
   },
   "outputs": [],
   "source": []
  }
 ],
 "metadata": {
  "kernelspec": {
   "display_name": "Python 3",
   "language": "python",
   "name": "python3"
  },
  "language_info": {
   "codemirror_mode": {
    "name": "ipython",
    "version": 3
   },
   "file_extension": ".py",
   "mimetype": "text/x-python",
   "name": "python",
   "nbconvert_exporter": "python",
   "pygments_lexer": "ipython3",
   "version": "3.10.12"
  },
  "papermill": {
   "default_parameters": {},
   "duration": 1185.697411,
   "end_time": "2023-08-06T00:46:36.762632",
   "environment_variables": {},
   "exception": null,
   "input_path": "__notebook__.ipynb",
   "output_path": "__notebook__.ipynb",
   "parameters": {},
   "start_time": "2023-08-06T00:26:51.065221",
   "version": "2.4.0"
  }
 },
 "nbformat": 4,
 "nbformat_minor": 5
}
